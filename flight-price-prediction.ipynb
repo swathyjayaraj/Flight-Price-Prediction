{
 "cells": [
  {
   "cell_type": "code",
   "execution_count": 1,
   "id": "33b85aa5",
   "metadata": {
    "_cell_guid": "b1076dfc-b9ad-4769-8c92-a6c4dae69d19",
    "_uuid": "8f2839f25d086af736a60e9eeb907d3b93b6e0e5",
    "execution": {
     "iopub.execute_input": "2022-11-19T05:29:22.995389Z",
     "iopub.status.busy": "2022-11-19T05:29:22.995005Z",
     "iopub.status.idle": "2022-11-19T05:29:23.888503Z",
     "shell.execute_reply": "2022-11-19T05:29:23.887243Z"
    },
    "papermill": {
     "duration": 0.912239,
     "end_time": "2022-11-19T05:29:23.891233",
     "exception": false,
     "start_time": "2022-11-19T05:29:22.978994",
     "status": "completed"
    },
    "tags": []
   },
   "outputs": [],
   "source": [
    "#importing basics libraries\n",
    "import pandas as pd\n",
    "import numpy as np\n",
    "import matplotlib.pyplot as plt\n",
    "import seaborn as sns\n",
    "%matplotlib inline"
   ]
  },
  {
   "cell_type": "code",
   "execution_count": 2,
   "id": "31fe9e6f",
   "metadata": {
    "execution": {
     "iopub.execute_input": "2022-11-19T05:29:23.921399Z",
     "iopub.status.busy": "2022-11-19T05:29:23.920328Z",
     "iopub.status.idle": "2022-11-19T05:29:23.933330Z",
     "shell.execute_reply": "2022-11-19T05:29:23.932723Z"
    },
    "papermill": {
     "duration": 0.030052,
     "end_time": "2022-11-19T05:29:23.935476",
     "exception": false,
     "start_time": "2022-11-19T05:29:23.905424",
     "status": "completed"
    },
    "tags": []
   },
   "outputs": [
    {
     "name": "stdout",
     "output_type": "stream",
     "text": [
      "/kaggle/input/flight-price-prediction-dataset/Data_Train.xlsx\n",
      "/kaggle/input/flight-price-prediction-dataset/Test_set.xlsx\n"
     ]
    }
   ],
   "source": [
    "import os\n",
    "for dirname, _, filenames in os.walk('/kaggle/input'):\n",
    "    for filename in filenames:\n",
    "        print(os.path.join(dirname, filename))"
   ]
  },
  {
   "cell_type": "code",
   "execution_count": 3,
   "id": "76225afc",
   "metadata": {
    "execution": {
     "iopub.execute_input": "2022-11-19T05:29:23.966982Z",
     "iopub.status.busy": "2022-11-19T05:29:23.965961Z",
     "iopub.status.idle": "2022-11-19T05:29:26.251960Z",
     "shell.execute_reply": "2022-11-19T05:29:26.251001Z"
    },
    "papermill": {
     "duration": 2.303695,
     "end_time": "2022-11-19T05:29:26.254168",
     "exception": false,
     "start_time": "2022-11-19T05:29:23.950473",
     "status": "completed"
    },
    "tags": []
   },
   "outputs": [],
   "source": [
    "train_df=pd.read_excel('/kaggle/input/flight-price-prediction-dataset/Data_Train.xlsx')\n",
    "test_df=pd.read_excel('/kaggle/input/flight-price-prediction-dataset/Test_set.xlsx')"
   ]
  },
  {
   "cell_type": "code",
   "execution_count": 4,
   "id": "18ecbae4",
   "metadata": {
    "execution": {
     "iopub.execute_input": "2022-11-19T05:29:26.284427Z",
     "iopub.status.busy": "2022-11-19T05:29:26.284119Z",
     "iopub.status.idle": "2022-11-19T05:29:26.305796Z",
     "shell.execute_reply": "2022-11-19T05:29:26.305144Z"
    },
    "papermill": {
     "duration": 0.039978,
     "end_time": "2022-11-19T05:29:26.308267",
     "exception": false,
     "start_time": "2022-11-19T05:29:26.268289",
     "status": "completed"
    },
    "tags": []
   },
   "outputs": [
    {
     "data": {
      "text/html": [
       "<div>\n",
       "<style scoped>\n",
       "    .dataframe tbody tr th:only-of-type {\n",
       "        vertical-align: middle;\n",
       "    }\n",
       "\n",
       "    .dataframe tbody tr th {\n",
       "        vertical-align: top;\n",
       "    }\n",
       "\n",
       "    .dataframe thead th {\n",
       "        text-align: right;\n",
       "    }\n",
       "</style>\n",
       "<table border=\"1\" class=\"dataframe\">\n",
       "  <thead>\n",
       "    <tr style=\"text-align: right;\">\n",
       "      <th></th>\n",
       "      <th>Airline</th>\n",
       "      <th>Date_of_Journey</th>\n",
       "      <th>Source</th>\n",
       "      <th>Destination</th>\n",
       "      <th>Route</th>\n",
       "      <th>Dep_Time</th>\n",
       "      <th>Arrival_Time</th>\n",
       "      <th>Duration</th>\n",
       "      <th>Total_Stops</th>\n",
       "      <th>Additional_Info</th>\n",
       "      <th>Price</th>\n",
       "    </tr>\n",
       "  </thead>\n",
       "  <tbody>\n",
       "    <tr>\n",
       "      <th>0</th>\n",
       "      <td>IndiGo</td>\n",
       "      <td>24/03/2019</td>\n",
       "      <td>Banglore</td>\n",
       "      <td>New Delhi</td>\n",
       "      <td>BLR → DEL</td>\n",
       "      <td>22:20</td>\n",
       "      <td>01:10 22 Mar</td>\n",
       "      <td>2h 50m</td>\n",
       "      <td>non-stop</td>\n",
       "      <td>No info</td>\n",
       "      <td>3897</td>\n",
       "    </tr>\n",
       "    <tr>\n",
       "      <th>1</th>\n",
       "      <td>Air India</td>\n",
       "      <td>1/05/2019</td>\n",
       "      <td>Kolkata</td>\n",
       "      <td>Banglore</td>\n",
       "      <td>CCU → IXR → BBI → BLR</td>\n",
       "      <td>05:50</td>\n",
       "      <td>13:15</td>\n",
       "      <td>7h 25m</td>\n",
       "      <td>2 stops</td>\n",
       "      <td>No info</td>\n",
       "      <td>7662</td>\n",
       "    </tr>\n",
       "    <tr>\n",
       "      <th>2</th>\n",
       "      <td>Jet Airways</td>\n",
       "      <td>9/06/2019</td>\n",
       "      <td>Delhi</td>\n",
       "      <td>Cochin</td>\n",
       "      <td>DEL → LKO → BOM → COK</td>\n",
       "      <td>09:25</td>\n",
       "      <td>04:25 10 Jun</td>\n",
       "      <td>19h</td>\n",
       "      <td>2 stops</td>\n",
       "      <td>No info</td>\n",
       "      <td>13882</td>\n",
       "    </tr>\n",
       "    <tr>\n",
       "      <th>3</th>\n",
       "      <td>IndiGo</td>\n",
       "      <td>12/05/2019</td>\n",
       "      <td>Kolkata</td>\n",
       "      <td>Banglore</td>\n",
       "      <td>CCU → NAG → BLR</td>\n",
       "      <td>18:05</td>\n",
       "      <td>23:30</td>\n",
       "      <td>5h 25m</td>\n",
       "      <td>1 stop</td>\n",
       "      <td>No info</td>\n",
       "      <td>6218</td>\n",
       "    </tr>\n",
       "    <tr>\n",
       "      <th>4</th>\n",
       "      <td>IndiGo</td>\n",
       "      <td>01/03/2019</td>\n",
       "      <td>Banglore</td>\n",
       "      <td>New Delhi</td>\n",
       "      <td>BLR → NAG → DEL</td>\n",
       "      <td>16:50</td>\n",
       "      <td>21:35</td>\n",
       "      <td>4h 45m</td>\n",
       "      <td>1 stop</td>\n",
       "      <td>No info</td>\n",
       "      <td>13302</td>\n",
       "    </tr>\n",
       "  </tbody>\n",
       "</table>\n",
       "</div>"
      ],
      "text/plain": [
       "       Airline Date_of_Journey    Source Destination                  Route  \\\n",
       "0       IndiGo      24/03/2019  Banglore   New Delhi              BLR → DEL   \n",
       "1    Air India       1/05/2019   Kolkata    Banglore  CCU → IXR → BBI → BLR   \n",
       "2  Jet Airways       9/06/2019     Delhi      Cochin  DEL → LKO → BOM → COK   \n",
       "3       IndiGo      12/05/2019   Kolkata    Banglore        CCU → NAG → BLR   \n",
       "4       IndiGo      01/03/2019  Banglore   New Delhi        BLR → NAG → DEL   \n",
       "\n",
       "  Dep_Time  Arrival_Time Duration Total_Stops Additional_Info  Price  \n",
       "0    22:20  01:10 22 Mar   2h 50m    non-stop         No info   3897  \n",
       "1    05:50         13:15   7h 25m     2 stops         No info   7662  \n",
       "2    09:25  04:25 10 Jun      19h     2 stops         No info  13882  \n",
       "3    18:05         23:30   5h 25m      1 stop         No info   6218  \n",
       "4    16:50         21:35   4h 45m      1 stop         No info  13302  "
      ]
     },
     "execution_count": 4,
     "metadata": {},
     "output_type": "execute_result"
    }
   ],
   "source": [
    "train_df.head()"
   ]
  },
  {
   "cell_type": "code",
   "execution_count": 5,
   "id": "b37210bf",
   "metadata": {
    "execution": {
     "iopub.execute_input": "2022-11-19T05:29:26.339404Z",
     "iopub.status.busy": "2022-11-19T05:29:26.338863Z",
     "iopub.status.idle": "2022-11-19T05:29:26.353626Z",
     "shell.execute_reply": "2022-11-19T05:29:26.352217Z"
    },
    "papermill": {
     "duration": 0.03292,
     "end_time": "2022-11-19T05:29:26.355993",
     "exception": false,
     "start_time": "2022-11-19T05:29:26.323073",
     "status": "completed"
    },
    "tags": []
   },
   "outputs": [
    {
     "data": {
      "text/html": [
       "<div>\n",
       "<style scoped>\n",
       "    .dataframe tbody tr th:only-of-type {\n",
       "        vertical-align: middle;\n",
       "    }\n",
       "\n",
       "    .dataframe tbody tr th {\n",
       "        vertical-align: top;\n",
       "    }\n",
       "\n",
       "    .dataframe thead th {\n",
       "        text-align: right;\n",
       "    }\n",
       "</style>\n",
       "<table border=\"1\" class=\"dataframe\">\n",
       "  <thead>\n",
       "    <tr style=\"text-align: right;\">\n",
       "      <th></th>\n",
       "      <th>Airline</th>\n",
       "      <th>Date_of_Journey</th>\n",
       "      <th>Source</th>\n",
       "      <th>Destination</th>\n",
       "      <th>Route</th>\n",
       "      <th>Dep_Time</th>\n",
       "      <th>Arrival_Time</th>\n",
       "      <th>Duration</th>\n",
       "      <th>Total_Stops</th>\n",
       "      <th>Additional_Info</th>\n",
       "    </tr>\n",
       "  </thead>\n",
       "  <tbody>\n",
       "    <tr>\n",
       "      <th>0</th>\n",
       "      <td>Jet Airways</td>\n",
       "      <td>6/06/2019</td>\n",
       "      <td>Delhi</td>\n",
       "      <td>Cochin</td>\n",
       "      <td>DEL → BOM → COK</td>\n",
       "      <td>17:30</td>\n",
       "      <td>04:25 07 Jun</td>\n",
       "      <td>10h 55m</td>\n",
       "      <td>1 stop</td>\n",
       "      <td>No info</td>\n",
       "    </tr>\n",
       "    <tr>\n",
       "      <th>1</th>\n",
       "      <td>IndiGo</td>\n",
       "      <td>12/05/2019</td>\n",
       "      <td>Kolkata</td>\n",
       "      <td>Banglore</td>\n",
       "      <td>CCU → MAA → BLR</td>\n",
       "      <td>06:20</td>\n",
       "      <td>10:20</td>\n",
       "      <td>4h</td>\n",
       "      <td>1 stop</td>\n",
       "      <td>No info</td>\n",
       "    </tr>\n",
       "    <tr>\n",
       "      <th>2</th>\n",
       "      <td>Jet Airways</td>\n",
       "      <td>21/05/2019</td>\n",
       "      <td>Delhi</td>\n",
       "      <td>Cochin</td>\n",
       "      <td>DEL → BOM → COK</td>\n",
       "      <td>19:15</td>\n",
       "      <td>19:00 22 May</td>\n",
       "      <td>23h 45m</td>\n",
       "      <td>1 stop</td>\n",
       "      <td>In-flight meal not included</td>\n",
       "    </tr>\n",
       "    <tr>\n",
       "      <th>3</th>\n",
       "      <td>Multiple carriers</td>\n",
       "      <td>21/05/2019</td>\n",
       "      <td>Delhi</td>\n",
       "      <td>Cochin</td>\n",
       "      <td>DEL → BOM → COK</td>\n",
       "      <td>08:00</td>\n",
       "      <td>21:00</td>\n",
       "      <td>13h</td>\n",
       "      <td>1 stop</td>\n",
       "      <td>No info</td>\n",
       "    </tr>\n",
       "    <tr>\n",
       "      <th>4</th>\n",
       "      <td>Air Asia</td>\n",
       "      <td>24/06/2019</td>\n",
       "      <td>Banglore</td>\n",
       "      <td>Delhi</td>\n",
       "      <td>BLR → DEL</td>\n",
       "      <td>23:55</td>\n",
       "      <td>02:45 25 Jun</td>\n",
       "      <td>2h 50m</td>\n",
       "      <td>non-stop</td>\n",
       "      <td>No info</td>\n",
       "    </tr>\n",
       "  </tbody>\n",
       "</table>\n",
       "</div>"
      ],
      "text/plain": [
       "             Airline Date_of_Journey    Source Destination            Route  \\\n",
       "0        Jet Airways       6/06/2019     Delhi      Cochin  DEL → BOM → COK   \n",
       "1             IndiGo      12/05/2019   Kolkata    Banglore  CCU → MAA → BLR   \n",
       "2        Jet Airways      21/05/2019     Delhi      Cochin  DEL → BOM → COK   \n",
       "3  Multiple carriers      21/05/2019     Delhi      Cochin  DEL → BOM → COK   \n",
       "4           Air Asia      24/06/2019  Banglore       Delhi        BLR → DEL   \n",
       "\n",
       "  Dep_Time  Arrival_Time Duration Total_Stops              Additional_Info  \n",
       "0    17:30  04:25 07 Jun  10h 55m      1 stop                      No info  \n",
       "1    06:20         10:20       4h      1 stop                      No info  \n",
       "2    19:15  19:00 22 May  23h 45m      1 stop  In-flight meal not included  \n",
       "3    08:00         21:00      13h      1 stop                      No info  \n",
       "4    23:55  02:45 25 Jun   2h 50m    non-stop                      No info  "
      ]
     },
     "execution_count": 5,
     "metadata": {},
     "output_type": "execute_result"
    }
   ],
   "source": [
    "test_df.head()"
   ]
  },
  {
   "cell_type": "code",
   "execution_count": 6,
   "id": "4372cdfe",
   "metadata": {
    "execution": {
     "iopub.execute_input": "2022-11-19T05:29:26.386968Z",
     "iopub.status.busy": "2022-11-19T05:29:26.386655Z",
     "iopub.status.idle": "2022-11-19T05:29:26.397710Z",
     "shell.execute_reply": "2022-11-19T05:29:26.397047Z"
    },
    "papermill": {
     "duration": 0.028466,
     "end_time": "2022-11-19T05:29:26.399354",
     "exception": false,
     "start_time": "2022-11-19T05:29:26.370888",
     "status": "completed"
    },
    "tags": []
   },
   "outputs": [],
   "source": [
    "final_df=train_df.append(test_df)"
   ]
  },
  {
   "cell_type": "code",
   "execution_count": 7,
   "id": "a80487e0",
   "metadata": {
    "execution": {
     "iopub.execute_input": "2022-11-19T05:29:26.430384Z",
     "iopub.status.busy": "2022-11-19T05:29:26.429910Z",
     "iopub.status.idle": "2022-11-19T05:29:26.442097Z",
     "shell.execute_reply": "2022-11-19T05:29:26.441223Z"
    },
    "papermill": {
     "duration": 0.029456,
     "end_time": "2022-11-19T05:29:26.443631",
     "exception": false,
     "start_time": "2022-11-19T05:29:26.414175",
     "status": "completed"
    },
    "tags": []
   },
   "outputs": [
    {
     "data": {
      "text/html": [
       "<div>\n",
       "<style scoped>\n",
       "    .dataframe tbody tr th:only-of-type {\n",
       "        vertical-align: middle;\n",
       "    }\n",
       "\n",
       "    .dataframe tbody tr th {\n",
       "        vertical-align: top;\n",
       "    }\n",
       "\n",
       "    .dataframe thead th {\n",
       "        text-align: right;\n",
       "    }\n",
       "</style>\n",
       "<table border=\"1\" class=\"dataframe\">\n",
       "  <thead>\n",
       "    <tr style=\"text-align: right;\">\n",
       "      <th></th>\n",
       "      <th>Airline</th>\n",
       "      <th>Date_of_Journey</th>\n",
       "      <th>Source</th>\n",
       "      <th>Destination</th>\n",
       "      <th>Route</th>\n",
       "      <th>Dep_Time</th>\n",
       "      <th>Arrival_Time</th>\n",
       "      <th>Duration</th>\n",
       "      <th>Total_Stops</th>\n",
       "      <th>Additional_Info</th>\n",
       "      <th>Price</th>\n",
       "    </tr>\n",
       "  </thead>\n",
       "  <tbody>\n",
       "    <tr>\n",
       "      <th>0</th>\n",
       "      <td>IndiGo</td>\n",
       "      <td>24/03/2019</td>\n",
       "      <td>Banglore</td>\n",
       "      <td>New Delhi</td>\n",
       "      <td>BLR → DEL</td>\n",
       "      <td>22:20</td>\n",
       "      <td>01:10 22 Mar</td>\n",
       "      <td>2h 50m</td>\n",
       "      <td>non-stop</td>\n",
       "      <td>No info</td>\n",
       "      <td>3897.0</td>\n",
       "    </tr>\n",
       "    <tr>\n",
       "      <th>1</th>\n",
       "      <td>Air India</td>\n",
       "      <td>1/05/2019</td>\n",
       "      <td>Kolkata</td>\n",
       "      <td>Banglore</td>\n",
       "      <td>CCU → IXR → BBI → BLR</td>\n",
       "      <td>05:50</td>\n",
       "      <td>13:15</td>\n",
       "      <td>7h 25m</td>\n",
       "      <td>2 stops</td>\n",
       "      <td>No info</td>\n",
       "      <td>7662.0</td>\n",
       "    </tr>\n",
       "    <tr>\n",
       "      <th>2</th>\n",
       "      <td>Jet Airways</td>\n",
       "      <td>9/06/2019</td>\n",
       "      <td>Delhi</td>\n",
       "      <td>Cochin</td>\n",
       "      <td>DEL → LKO → BOM → COK</td>\n",
       "      <td>09:25</td>\n",
       "      <td>04:25 10 Jun</td>\n",
       "      <td>19h</td>\n",
       "      <td>2 stops</td>\n",
       "      <td>No info</td>\n",
       "      <td>13882.0</td>\n",
       "    </tr>\n",
       "    <tr>\n",
       "      <th>3</th>\n",
       "      <td>IndiGo</td>\n",
       "      <td>12/05/2019</td>\n",
       "      <td>Kolkata</td>\n",
       "      <td>Banglore</td>\n",
       "      <td>CCU → NAG → BLR</td>\n",
       "      <td>18:05</td>\n",
       "      <td>23:30</td>\n",
       "      <td>5h 25m</td>\n",
       "      <td>1 stop</td>\n",
       "      <td>No info</td>\n",
       "      <td>6218.0</td>\n",
       "    </tr>\n",
       "    <tr>\n",
       "      <th>4</th>\n",
       "      <td>IndiGo</td>\n",
       "      <td>01/03/2019</td>\n",
       "      <td>Banglore</td>\n",
       "      <td>New Delhi</td>\n",
       "      <td>BLR → NAG → DEL</td>\n",
       "      <td>16:50</td>\n",
       "      <td>21:35</td>\n",
       "      <td>4h 45m</td>\n",
       "      <td>1 stop</td>\n",
       "      <td>No info</td>\n",
       "      <td>13302.0</td>\n",
       "    </tr>\n",
       "  </tbody>\n",
       "</table>\n",
       "</div>"
      ],
      "text/plain": [
       "       Airline Date_of_Journey    Source Destination                  Route  \\\n",
       "0       IndiGo      24/03/2019  Banglore   New Delhi              BLR → DEL   \n",
       "1    Air India       1/05/2019   Kolkata    Banglore  CCU → IXR → BBI → BLR   \n",
       "2  Jet Airways       9/06/2019     Delhi      Cochin  DEL → LKO → BOM → COK   \n",
       "3       IndiGo      12/05/2019   Kolkata    Banglore        CCU → NAG → BLR   \n",
       "4       IndiGo      01/03/2019  Banglore   New Delhi        BLR → NAG → DEL   \n",
       "\n",
       "  Dep_Time  Arrival_Time Duration Total_Stops Additional_Info    Price  \n",
       "0    22:20  01:10 22 Mar   2h 50m    non-stop         No info   3897.0  \n",
       "1    05:50         13:15   7h 25m     2 stops         No info   7662.0  \n",
       "2    09:25  04:25 10 Jun      19h     2 stops         No info  13882.0  \n",
       "3    18:05         23:30   5h 25m      1 stop         No info   6218.0  \n",
       "4    16:50         21:35   4h 45m      1 stop         No info  13302.0  "
      ]
     },
     "execution_count": 7,
     "metadata": {},
     "output_type": "execute_result"
    }
   ],
   "source": [
    "final_df.head()"
   ]
  },
  {
   "cell_type": "code",
   "execution_count": 8,
   "id": "8c4deb5c",
   "metadata": {
    "execution": {
     "iopub.execute_input": "2022-11-19T05:29:26.474692Z",
     "iopub.status.busy": "2022-11-19T05:29:26.474224Z",
     "iopub.status.idle": "2022-11-19T05:29:26.486019Z",
     "shell.execute_reply": "2022-11-19T05:29:26.484988Z"
    },
    "papermill": {
     "duration": 0.029436,
     "end_time": "2022-11-19T05:29:26.487680",
     "exception": false,
     "start_time": "2022-11-19T05:29:26.458244",
     "status": "completed"
    },
    "tags": []
   },
   "outputs": [
    {
     "data": {
      "text/html": [
       "<div>\n",
       "<style scoped>\n",
       "    .dataframe tbody tr th:only-of-type {\n",
       "        vertical-align: middle;\n",
       "    }\n",
       "\n",
       "    .dataframe tbody tr th {\n",
       "        vertical-align: top;\n",
       "    }\n",
       "\n",
       "    .dataframe thead th {\n",
       "        text-align: right;\n",
       "    }\n",
       "</style>\n",
       "<table border=\"1\" class=\"dataframe\">\n",
       "  <thead>\n",
       "    <tr style=\"text-align: right;\">\n",
       "      <th></th>\n",
       "      <th>Airline</th>\n",
       "      <th>Date_of_Journey</th>\n",
       "      <th>Source</th>\n",
       "      <th>Destination</th>\n",
       "      <th>Route</th>\n",
       "      <th>Dep_Time</th>\n",
       "      <th>Arrival_Time</th>\n",
       "      <th>Duration</th>\n",
       "      <th>Total_Stops</th>\n",
       "      <th>Additional_Info</th>\n",
       "      <th>Price</th>\n",
       "    </tr>\n",
       "  </thead>\n",
       "  <tbody>\n",
       "    <tr>\n",
       "      <th>2666</th>\n",
       "      <td>Air India</td>\n",
       "      <td>6/06/2019</td>\n",
       "      <td>Kolkata</td>\n",
       "      <td>Banglore</td>\n",
       "      <td>CCU → DEL → BLR</td>\n",
       "      <td>20:30</td>\n",
       "      <td>20:25 07 Jun</td>\n",
       "      <td>23h 55m</td>\n",
       "      <td>1 stop</td>\n",
       "      <td>No info</td>\n",
       "      <td>NaN</td>\n",
       "    </tr>\n",
       "    <tr>\n",
       "      <th>2667</th>\n",
       "      <td>IndiGo</td>\n",
       "      <td>27/03/2019</td>\n",
       "      <td>Kolkata</td>\n",
       "      <td>Banglore</td>\n",
       "      <td>CCU → BLR</td>\n",
       "      <td>14:20</td>\n",
       "      <td>16:55</td>\n",
       "      <td>2h 35m</td>\n",
       "      <td>non-stop</td>\n",
       "      <td>No info</td>\n",
       "      <td>NaN</td>\n",
       "    </tr>\n",
       "    <tr>\n",
       "      <th>2668</th>\n",
       "      <td>Jet Airways</td>\n",
       "      <td>6/03/2019</td>\n",
       "      <td>Delhi</td>\n",
       "      <td>Cochin</td>\n",
       "      <td>DEL → BOM → COK</td>\n",
       "      <td>21:50</td>\n",
       "      <td>04:25 07 Mar</td>\n",
       "      <td>6h 35m</td>\n",
       "      <td>1 stop</td>\n",
       "      <td>No info</td>\n",
       "      <td>NaN</td>\n",
       "    </tr>\n",
       "    <tr>\n",
       "      <th>2669</th>\n",
       "      <td>Air India</td>\n",
       "      <td>6/03/2019</td>\n",
       "      <td>Delhi</td>\n",
       "      <td>Cochin</td>\n",
       "      <td>DEL → BOM → COK</td>\n",
       "      <td>04:00</td>\n",
       "      <td>19:15</td>\n",
       "      <td>15h 15m</td>\n",
       "      <td>1 stop</td>\n",
       "      <td>No info</td>\n",
       "      <td>NaN</td>\n",
       "    </tr>\n",
       "    <tr>\n",
       "      <th>2670</th>\n",
       "      <td>Multiple carriers</td>\n",
       "      <td>15/06/2019</td>\n",
       "      <td>Delhi</td>\n",
       "      <td>Cochin</td>\n",
       "      <td>DEL → BOM → COK</td>\n",
       "      <td>04:55</td>\n",
       "      <td>19:15</td>\n",
       "      <td>14h 20m</td>\n",
       "      <td>1 stop</td>\n",
       "      <td>No info</td>\n",
       "      <td>NaN</td>\n",
       "    </tr>\n",
       "  </tbody>\n",
       "</table>\n",
       "</div>"
      ],
      "text/plain": [
       "                Airline Date_of_Journey   Source Destination            Route  \\\n",
       "2666          Air India       6/06/2019  Kolkata    Banglore  CCU → DEL → BLR   \n",
       "2667             IndiGo      27/03/2019  Kolkata    Banglore        CCU → BLR   \n",
       "2668        Jet Airways       6/03/2019    Delhi      Cochin  DEL → BOM → COK   \n",
       "2669          Air India       6/03/2019    Delhi      Cochin  DEL → BOM → COK   \n",
       "2670  Multiple carriers      15/06/2019    Delhi      Cochin  DEL → BOM → COK   \n",
       "\n",
       "     Dep_Time  Arrival_Time Duration Total_Stops Additional_Info  Price  \n",
       "2666    20:30  20:25 07 Jun  23h 55m      1 stop         No info    NaN  \n",
       "2667    14:20         16:55   2h 35m    non-stop         No info    NaN  \n",
       "2668    21:50  04:25 07 Mar   6h 35m      1 stop         No info    NaN  \n",
       "2669    04:00         19:15  15h 15m      1 stop         No info    NaN  \n",
       "2670    04:55         19:15  14h 20m      1 stop         No info    NaN  "
      ]
     },
     "execution_count": 8,
     "metadata": {},
     "output_type": "execute_result"
    }
   ],
   "source": [
    "final_df.tail()"
   ]
  },
  {
   "cell_type": "code",
   "execution_count": 9,
   "id": "6187e9fa",
   "metadata": {
    "execution": {
     "iopub.execute_input": "2022-11-19T05:29:26.519016Z",
     "iopub.status.busy": "2022-11-19T05:29:26.518531Z",
     "iopub.status.idle": "2022-11-19T05:29:26.541366Z",
     "shell.execute_reply": "2022-11-19T05:29:26.540121Z"
    },
    "papermill": {
     "duration": 0.040668,
     "end_time": "2022-11-19T05:29:26.543364",
     "exception": false,
     "start_time": "2022-11-19T05:29:26.502696",
     "status": "completed"
    },
    "tags": []
   },
   "outputs": [
    {
     "name": "stdout",
     "output_type": "stream",
     "text": [
      "<class 'pandas.core.frame.DataFrame'>\n",
      "Int64Index: 13354 entries, 0 to 2670\n",
      "Data columns (total 11 columns):\n",
      " #   Column           Non-Null Count  Dtype  \n",
      "---  ------           --------------  -----  \n",
      " 0   Airline          13354 non-null  object \n",
      " 1   Date_of_Journey  13354 non-null  object \n",
      " 2   Source           13354 non-null  object \n",
      " 3   Destination      13354 non-null  object \n",
      " 4   Route            13353 non-null  object \n",
      " 5   Dep_Time         13354 non-null  object \n",
      " 6   Arrival_Time     13354 non-null  object \n",
      " 7   Duration         13354 non-null  object \n",
      " 8   Total_Stops      13353 non-null  object \n",
      " 9   Additional_Info  13354 non-null  object \n",
      " 10  Price            10683 non-null  float64\n",
      "dtypes: float64(1), object(10)\n",
      "memory usage: 1.2+ MB\n"
     ]
    }
   ],
   "source": [
    "final_df.info()"
   ]
  },
  {
   "cell_type": "code",
   "execution_count": 10,
   "id": "b39646af",
   "metadata": {
    "execution": {
     "iopub.execute_input": "2022-11-19T05:29:26.575477Z",
     "iopub.status.busy": "2022-11-19T05:29:26.575200Z",
     "iopub.status.idle": "2022-11-19T05:29:26.599828Z",
     "shell.execute_reply": "2022-11-19T05:29:26.598438Z"
    },
    "papermill": {
     "duration": 0.043475,
     "end_time": "2022-11-19T05:29:26.602160",
     "exception": false,
     "start_time": "2022-11-19T05:29:26.558685",
     "status": "completed"
    },
    "tags": []
   },
   "outputs": [
    {
     "data": {
      "text/plain": [
       "0       24\n",
       "1        1\n",
       "2        9\n",
       "3       12\n",
       "4       01\n",
       "        ..\n",
       "2666     6\n",
       "2667    27\n",
       "2668     6\n",
       "2669     6\n",
       "2670    15\n",
       "Name: Date_of_Journey, Length: 13354, dtype: object"
      ]
     },
     "execution_count": 10,
     "metadata": {},
     "output_type": "execute_result"
    }
   ],
   "source": [
    "final_df['Date_of_Journey'].str.split('/').str[0]"
   ]
  },
  {
   "cell_type": "code",
   "execution_count": 11,
   "id": "1458b4ad",
   "metadata": {
    "execution": {
     "iopub.execute_input": "2022-11-19T05:29:26.635072Z",
     "iopub.status.busy": "2022-11-19T05:29:26.634110Z",
     "iopub.status.idle": "2022-11-19T05:29:26.781391Z",
     "shell.execute_reply": "2022-11-19T05:29:26.780323Z"
    },
    "papermill": {
     "duration": 0.165774,
     "end_time": "2022-11-19T05:29:26.783488",
     "exception": false,
     "start_time": "2022-11-19T05:29:26.617714",
     "status": "completed"
    },
    "tags": []
   },
   "outputs": [],
   "source": [
    "final_df['Date']=final_df['Date_of_Journey'].str.split('/').str[0]\n",
    "final_df['Month']=final_df['Date_of_Journey'].str.split('/').str[1]\n",
    "final_df['Year']=final_df['Date_of_Journey'].str.split('/').str[2]"
   ]
  },
  {
   "cell_type": "code",
   "execution_count": 12,
   "id": "b3e3fd2f",
   "metadata": {
    "execution": {
     "iopub.execute_input": "2022-11-19T05:29:26.815630Z",
     "iopub.status.busy": "2022-11-19T05:29:26.814641Z",
     "iopub.status.idle": "2022-11-19T05:29:26.831183Z",
     "shell.execute_reply": "2022-11-19T05:29:26.829911Z"
    },
    "papermill": {
     "duration": 0.034713,
     "end_time": "2022-11-19T05:29:26.833031",
     "exception": false,
     "start_time": "2022-11-19T05:29:26.798318",
     "status": "completed"
    },
    "tags": []
   },
   "outputs": [
    {
     "data": {
      "text/html": [
       "<div>\n",
       "<style scoped>\n",
       "    .dataframe tbody tr th:only-of-type {\n",
       "        vertical-align: middle;\n",
       "    }\n",
       "\n",
       "    .dataframe tbody tr th {\n",
       "        vertical-align: top;\n",
       "    }\n",
       "\n",
       "    .dataframe thead th {\n",
       "        text-align: right;\n",
       "    }\n",
       "</style>\n",
       "<table border=\"1\" class=\"dataframe\">\n",
       "  <thead>\n",
       "    <tr style=\"text-align: right;\">\n",
       "      <th></th>\n",
       "      <th>Airline</th>\n",
       "      <th>Date_of_Journey</th>\n",
       "      <th>Source</th>\n",
       "      <th>Destination</th>\n",
       "      <th>Route</th>\n",
       "      <th>Dep_Time</th>\n",
       "      <th>Arrival_Time</th>\n",
       "      <th>Duration</th>\n",
       "      <th>Total_Stops</th>\n",
       "      <th>Additional_Info</th>\n",
       "      <th>Price</th>\n",
       "      <th>Date</th>\n",
       "      <th>Month</th>\n",
       "      <th>Year</th>\n",
       "    </tr>\n",
       "  </thead>\n",
       "  <tbody>\n",
       "    <tr>\n",
       "      <th>0</th>\n",
       "      <td>IndiGo</td>\n",
       "      <td>24/03/2019</td>\n",
       "      <td>Banglore</td>\n",
       "      <td>New Delhi</td>\n",
       "      <td>BLR → DEL</td>\n",
       "      <td>22:20</td>\n",
       "      <td>01:10 22 Mar</td>\n",
       "      <td>2h 50m</td>\n",
       "      <td>non-stop</td>\n",
       "      <td>No info</td>\n",
       "      <td>3897.0</td>\n",
       "      <td>24</td>\n",
       "      <td>03</td>\n",
       "      <td>2019</td>\n",
       "    </tr>\n",
       "    <tr>\n",
       "      <th>1</th>\n",
       "      <td>Air India</td>\n",
       "      <td>1/05/2019</td>\n",
       "      <td>Kolkata</td>\n",
       "      <td>Banglore</td>\n",
       "      <td>CCU → IXR → BBI → BLR</td>\n",
       "      <td>05:50</td>\n",
       "      <td>13:15</td>\n",
       "      <td>7h 25m</td>\n",
       "      <td>2 stops</td>\n",
       "      <td>No info</td>\n",
       "      <td>7662.0</td>\n",
       "      <td>1</td>\n",
       "      <td>05</td>\n",
       "      <td>2019</td>\n",
       "    </tr>\n",
       "  </tbody>\n",
       "</table>\n",
       "</div>"
      ],
      "text/plain": [
       "     Airline Date_of_Journey    Source Destination                  Route  \\\n",
       "0     IndiGo      24/03/2019  Banglore   New Delhi              BLR → DEL   \n",
       "1  Air India       1/05/2019   Kolkata    Banglore  CCU → IXR → BBI → BLR   \n",
       "\n",
       "  Dep_Time  Arrival_Time Duration Total_Stops Additional_Info   Price Date  \\\n",
       "0    22:20  01:10 22 Mar   2h 50m    non-stop         No info  3897.0   24   \n",
       "1    05:50         13:15   7h 25m     2 stops         No info  7662.0    1   \n",
       "\n",
       "  Month  Year  \n",
       "0    03  2019  \n",
       "1    05  2019  "
      ]
     },
     "execution_count": 12,
     "metadata": {},
     "output_type": "execute_result"
    }
   ],
   "source": [
    "final_df.head(2)"
   ]
  },
  {
   "cell_type": "markdown",
   "id": "17f6935a",
   "metadata": {
    "papermill": {
     "duration": 0.015691,
     "end_time": "2022-11-19T05:29:26.863909",
     "exception": false,
     "start_time": "2022-11-19T05:29:26.848218",
     "status": "completed"
    },
    "tags": []
   },
   "source": [
    "# You can also use lambda expression\n",
    "\n",
    "df[\"Date\"]=df['Date_of_Journey'].apply(lambda x:x.split(\"/\")[0])\n",
    "df[\"Month\"]=df['Date_of_Journey'].apply(lambda x:x.split(\"/\")[1])\n",
    "df[\"Year\"]=df['Date_of_Journey'].apply(lambda x:x.split(\"/\")[2])"
   ]
  },
  {
   "cell_type": "code",
   "execution_count": 13,
   "id": "3a1645bc",
   "metadata": {
    "execution": {
     "iopub.execute_input": "2022-11-19T05:29:26.897038Z",
     "iopub.status.busy": "2022-11-19T05:29:26.896694Z",
     "iopub.status.idle": "2022-11-19T05:29:26.908156Z",
     "shell.execute_reply": "2022-11-19T05:29:26.906864Z"
    },
    "papermill": {
     "duration": 0.029967,
     "end_time": "2022-11-19T05:29:26.909956",
     "exception": false,
     "start_time": "2022-11-19T05:29:26.879989",
     "status": "completed"
    },
    "tags": []
   },
   "outputs": [],
   "source": [
    "final_df['Date']=final_df['Date'].astype(int)\n",
    "final_df['Month']=final_df['Month'].astype(int)\n",
    "final_df['Year']=final_df['Year'].astype(int)"
   ]
  },
  {
   "cell_type": "code",
   "execution_count": 14,
   "id": "d954fabf",
   "metadata": {
    "execution": {
     "iopub.execute_input": "2022-11-19T05:29:26.942326Z",
     "iopub.status.busy": "2022-11-19T05:29:26.942020Z",
     "iopub.status.idle": "2022-11-19T05:29:26.958724Z",
     "shell.execute_reply": "2022-11-19T05:29:26.957416Z"
    },
    "papermill": {
     "duration": 0.034881,
     "end_time": "2022-11-19T05:29:26.960511",
     "exception": false,
     "start_time": "2022-11-19T05:29:26.925630",
     "status": "completed"
    },
    "tags": []
   },
   "outputs": [
    {
     "name": "stdout",
     "output_type": "stream",
     "text": [
      "<class 'pandas.core.frame.DataFrame'>\n",
      "Int64Index: 13354 entries, 0 to 2670\n",
      "Data columns (total 14 columns):\n",
      " #   Column           Non-Null Count  Dtype  \n",
      "---  ------           --------------  -----  \n",
      " 0   Airline          13354 non-null  object \n",
      " 1   Date_of_Journey  13354 non-null  object \n",
      " 2   Source           13354 non-null  object \n",
      " 3   Destination      13354 non-null  object \n",
      " 4   Route            13353 non-null  object \n",
      " 5   Dep_Time         13354 non-null  object \n",
      " 6   Arrival_Time     13354 non-null  object \n",
      " 7   Duration         13354 non-null  object \n",
      " 8   Total_Stops      13353 non-null  object \n",
      " 9   Additional_Info  13354 non-null  object \n",
      " 10  Price            10683 non-null  float64\n",
      " 11  Date             13354 non-null  int64  \n",
      " 12  Month            13354 non-null  int64  \n",
      " 13  Year             13354 non-null  int64  \n",
      "dtypes: float64(1), int64(3), object(10)\n",
      "memory usage: 1.5+ MB\n"
     ]
    }
   ],
   "source": [
    "final_df.info()"
   ]
  },
  {
   "cell_type": "code",
   "execution_count": 15,
   "id": "226dac61",
   "metadata": {
    "execution": {
     "iopub.execute_input": "2022-11-19T05:29:26.993795Z",
     "iopub.status.busy": "2022-11-19T05:29:26.993288Z",
     "iopub.status.idle": "2022-11-19T05:29:27.001107Z",
     "shell.execute_reply": "2022-11-19T05:29:26.999984Z"
    },
    "papermill": {
     "duration": 0.027605,
     "end_time": "2022-11-19T05:29:27.003455",
     "exception": false,
     "start_time": "2022-11-19T05:29:26.975850",
     "status": "completed"
    },
    "tags": []
   },
   "outputs": [],
   "source": [
    "final_df.drop('Date_of_Journey',axis=1,inplace=True)"
   ]
  },
  {
   "cell_type": "code",
   "execution_count": 16,
   "id": "a082efb5",
   "metadata": {
    "execution": {
     "iopub.execute_input": "2022-11-19T05:29:27.036680Z",
     "iopub.status.busy": "2022-11-19T05:29:27.036380Z",
     "iopub.status.idle": "2022-11-19T05:29:27.051436Z",
     "shell.execute_reply": "2022-11-19T05:29:27.050376Z"
    },
    "papermill": {
     "duration": 0.034112,
     "end_time": "2022-11-19T05:29:27.053436",
     "exception": false,
     "start_time": "2022-11-19T05:29:27.019324",
     "status": "completed"
    },
    "tags": []
   },
   "outputs": [
    {
     "data": {
      "text/html": [
       "<div>\n",
       "<style scoped>\n",
       "    .dataframe tbody tr th:only-of-type {\n",
       "        vertical-align: middle;\n",
       "    }\n",
       "\n",
       "    .dataframe tbody tr th {\n",
       "        vertical-align: top;\n",
       "    }\n",
       "\n",
       "    .dataframe thead th {\n",
       "        text-align: right;\n",
       "    }\n",
       "</style>\n",
       "<table border=\"1\" class=\"dataframe\">\n",
       "  <thead>\n",
       "    <tr style=\"text-align: right;\">\n",
       "      <th></th>\n",
       "      <th>Airline</th>\n",
       "      <th>Source</th>\n",
       "      <th>Destination</th>\n",
       "      <th>Route</th>\n",
       "      <th>Dep_Time</th>\n",
       "      <th>Arrival_Time</th>\n",
       "      <th>Duration</th>\n",
       "      <th>Total_Stops</th>\n",
       "      <th>Additional_Info</th>\n",
       "      <th>Price</th>\n",
       "      <th>Date</th>\n",
       "      <th>Month</th>\n",
       "      <th>Year</th>\n",
       "    </tr>\n",
       "  </thead>\n",
       "  <tbody>\n",
       "    <tr>\n",
       "      <th>0</th>\n",
       "      <td>IndiGo</td>\n",
       "      <td>Banglore</td>\n",
       "      <td>New Delhi</td>\n",
       "      <td>BLR → DEL</td>\n",
       "      <td>22:20</td>\n",
       "      <td>01:10 22 Mar</td>\n",
       "      <td>2h 50m</td>\n",
       "      <td>non-stop</td>\n",
       "      <td>No info</td>\n",
       "      <td>3897.0</td>\n",
       "      <td>24</td>\n",
       "      <td>3</td>\n",
       "      <td>2019</td>\n",
       "    </tr>\n",
       "    <tr>\n",
       "      <th>1</th>\n",
       "      <td>Air India</td>\n",
       "      <td>Kolkata</td>\n",
       "      <td>Banglore</td>\n",
       "      <td>CCU → IXR → BBI → BLR</td>\n",
       "      <td>05:50</td>\n",
       "      <td>13:15</td>\n",
       "      <td>7h 25m</td>\n",
       "      <td>2 stops</td>\n",
       "      <td>No info</td>\n",
       "      <td>7662.0</td>\n",
       "      <td>1</td>\n",
       "      <td>5</td>\n",
       "      <td>2019</td>\n",
       "    </tr>\n",
       "    <tr>\n",
       "      <th>2</th>\n",
       "      <td>Jet Airways</td>\n",
       "      <td>Delhi</td>\n",
       "      <td>Cochin</td>\n",
       "      <td>DEL → LKO → BOM → COK</td>\n",
       "      <td>09:25</td>\n",
       "      <td>04:25 10 Jun</td>\n",
       "      <td>19h</td>\n",
       "      <td>2 stops</td>\n",
       "      <td>No info</td>\n",
       "      <td>13882.0</td>\n",
       "      <td>9</td>\n",
       "      <td>6</td>\n",
       "      <td>2019</td>\n",
       "    </tr>\n",
       "    <tr>\n",
       "      <th>3</th>\n",
       "      <td>IndiGo</td>\n",
       "      <td>Kolkata</td>\n",
       "      <td>Banglore</td>\n",
       "      <td>CCU → NAG → BLR</td>\n",
       "      <td>18:05</td>\n",
       "      <td>23:30</td>\n",
       "      <td>5h 25m</td>\n",
       "      <td>1 stop</td>\n",
       "      <td>No info</td>\n",
       "      <td>6218.0</td>\n",
       "      <td>12</td>\n",
       "      <td>5</td>\n",
       "      <td>2019</td>\n",
       "    </tr>\n",
       "    <tr>\n",
       "      <th>4</th>\n",
       "      <td>IndiGo</td>\n",
       "      <td>Banglore</td>\n",
       "      <td>New Delhi</td>\n",
       "      <td>BLR → NAG → DEL</td>\n",
       "      <td>16:50</td>\n",
       "      <td>21:35</td>\n",
       "      <td>4h 45m</td>\n",
       "      <td>1 stop</td>\n",
       "      <td>No info</td>\n",
       "      <td>13302.0</td>\n",
       "      <td>1</td>\n",
       "      <td>3</td>\n",
       "      <td>2019</td>\n",
       "    </tr>\n",
       "  </tbody>\n",
       "</table>\n",
       "</div>"
      ],
      "text/plain": [
       "       Airline    Source Destination                  Route Dep_Time  \\\n",
       "0       IndiGo  Banglore   New Delhi              BLR → DEL    22:20   \n",
       "1    Air India   Kolkata    Banglore  CCU → IXR → BBI → BLR    05:50   \n",
       "2  Jet Airways     Delhi      Cochin  DEL → LKO → BOM → COK    09:25   \n",
       "3       IndiGo   Kolkata    Banglore        CCU → NAG → BLR    18:05   \n",
       "4       IndiGo  Banglore   New Delhi        BLR → NAG → DEL    16:50   \n",
       "\n",
       "   Arrival_Time Duration Total_Stops Additional_Info    Price  Date  Month  \\\n",
       "0  01:10 22 Mar   2h 50m    non-stop         No info   3897.0    24      3   \n",
       "1         13:15   7h 25m     2 stops         No info   7662.0     1      5   \n",
       "2  04:25 10 Jun      19h     2 stops         No info  13882.0     9      6   \n",
       "3         23:30   5h 25m      1 stop         No info   6218.0    12      5   \n",
       "4         21:35   4h 45m      1 stop         No info  13302.0     1      3   \n",
       "\n",
       "   Year  \n",
       "0  2019  \n",
       "1  2019  \n",
       "2  2019  \n",
       "3  2019  \n",
       "4  2019  "
      ]
     },
     "execution_count": 16,
     "metadata": {},
     "output_type": "execute_result"
    }
   ],
   "source": [
    "final_df.head()"
   ]
  },
  {
   "cell_type": "markdown",
   "id": "92007881",
   "metadata": {
    "papermill": {
     "duration": 0.015894,
     "end_time": "2022-11-19T05:29:27.085257",
     "exception": false,
     "start_time": "2022-11-19T05:29:27.069363",
     "status": "completed"
    },
    "tags": []
   },
   "source": [
    "You can use this method or using lambda method both are same"
   ]
  },
  {
   "cell_type": "code",
   "execution_count": 17,
   "id": "4345a916",
   "metadata": {
    "execution": {
     "iopub.execute_input": "2022-11-19T05:29:27.118485Z",
     "iopub.status.busy": "2022-11-19T05:29:27.118005Z",
     "iopub.status.idle": "2022-11-19T05:29:27.140719Z",
     "shell.execute_reply": "2022-11-19T05:29:27.139395Z"
    },
    "papermill": {
     "duration": 0.041307,
     "end_time": "2022-11-19T05:29:27.142402",
     "exception": false,
     "start_time": "2022-11-19T05:29:27.101095",
     "status": "completed"
    },
    "tags": []
   },
   "outputs": [
    {
     "data": {
      "text/plain": [
       "0       01:10\n",
       "1       13:15\n",
       "2       04:25\n",
       "3       23:30\n",
       "4       21:35\n",
       "        ...  \n",
       "2666    20:25\n",
       "2667    16:55\n",
       "2668    04:25\n",
       "2669    19:15\n",
       "2670    19:15\n",
       "Name: Arrival_Time, Length: 13354, dtype: object"
      ]
     },
     "execution_count": 17,
     "metadata": {},
     "output_type": "execute_result"
    }
   ],
   "source": [
    "final_df['Arrival_Time'].str.split(' ').str[0]"
   ]
  },
  {
   "cell_type": "code",
   "execution_count": 18,
   "id": "cb86670d",
   "metadata": {
    "execution": {
     "iopub.execute_input": "2022-11-19T05:29:27.175446Z",
     "iopub.status.busy": "2022-11-19T05:29:27.174924Z",
     "iopub.status.idle": "2022-11-19T05:29:27.184292Z",
     "shell.execute_reply": "2022-11-19T05:29:27.183058Z"
    },
    "papermill": {
     "duration": 0.02759,
     "end_time": "2022-11-19T05:29:27.186061",
     "exception": false,
     "start_time": "2022-11-19T05:29:27.158471",
     "status": "completed"
    },
    "tags": []
   },
   "outputs": [],
   "source": [
    "final_df['Arrival_Time']=final_df['Arrival_Time'].apply(lambda x:x.split(' ')[0])"
   ]
  },
  {
   "cell_type": "code",
   "execution_count": 19,
   "id": "6f87621f",
   "metadata": {
    "execution": {
     "iopub.execute_input": "2022-11-19T05:29:27.218296Z",
     "iopub.status.busy": "2022-11-19T05:29:27.217971Z",
     "iopub.status.idle": "2022-11-19T05:29:27.255467Z",
     "shell.execute_reply": "2022-11-19T05:29:27.254540Z"
    },
    "papermill": {
     "duration": 0.055973,
     "end_time": "2022-11-19T05:29:27.257431",
     "exception": false,
     "start_time": "2022-11-19T05:29:27.201458",
     "status": "completed"
    },
    "tags": []
   },
   "outputs": [],
   "source": [
    "final_df['Arrival_hour']=final_df['Arrival_Time'].str.split(':').str[0]\n",
    "final_df['Arrival_min']=final_df['Arrival_Time'].str.split(':').str[1]"
   ]
  },
  {
   "cell_type": "code",
   "execution_count": 20,
   "id": "59a32343",
   "metadata": {
    "execution": {
     "iopub.execute_input": "2022-11-19T05:29:27.290406Z",
     "iopub.status.busy": "2022-11-19T05:29:27.290106Z",
     "iopub.status.idle": "2022-11-19T05:29:27.304264Z",
     "shell.execute_reply": "2022-11-19T05:29:27.303430Z"
    },
    "papermill": {
     "duration": 0.033075,
     "end_time": "2022-11-19T05:29:27.306357",
     "exception": false,
     "start_time": "2022-11-19T05:29:27.273282",
     "status": "completed"
    },
    "tags": []
   },
   "outputs": [
    {
     "data": {
      "text/html": [
       "<div>\n",
       "<style scoped>\n",
       "    .dataframe tbody tr th:only-of-type {\n",
       "        vertical-align: middle;\n",
       "    }\n",
       "\n",
       "    .dataframe tbody tr th {\n",
       "        vertical-align: top;\n",
       "    }\n",
       "\n",
       "    .dataframe thead th {\n",
       "        text-align: right;\n",
       "    }\n",
       "</style>\n",
       "<table border=\"1\" class=\"dataframe\">\n",
       "  <thead>\n",
       "    <tr style=\"text-align: right;\">\n",
       "      <th></th>\n",
       "      <th>Airline</th>\n",
       "      <th>Source</th>\n",
       "      <th>Destination</th>\n",
       "      <th>Route</th>\n",
       "      <th>Dep_Time</th>\n",
       "      <th>Arrival_Time</th>\n",
       "      <th>Duration</th>\n",
       "      <th>Total_Stops</th>\n",
       "      <th>Additional_Info</th>\n",
       "      <th>Price</th>\n",
       "      <th>Date</th>\n",
       "      <th>Month</th>\n",
       "      <th>Year</th>\n",
       "      <th>Arrival_hour</th>\n",
       "      <th>Arrival_min</th>\n",
       "    </tr>\n",
       "  </thead>\n",
       "  <tbody>\n",
       "    <tr>\n",
       "      <th>0</th>\n",
       "      <td>IndiGo</td>\n",
       "      <td>Banglore</td>\n",
       "      <td>New Delhi</td>\n",
       "      <td>BLR → DEL</td>\n",
       "      <td>22:20</td>\n",
       "      <td>01:10</td>\n",
       "      <td>2h 50m</td>\n",
       "      <td>non-stop</td>\n",
       "      <td>No info</td>\n",
       "      <td>3897.0</td>\n",
       "      <td>24</td>\n",
       "      <td>3</td>\n",
       "      <td>2019</td>\n",
       "      <td>01</td>\n",
       "      <td>10</td>\n",
       "    </tr>\n",
       "  </tbody>\n",
       "</table>\n",
       "</div>"
      ],
      "text/plain": [
       "  Airline    Source Destination      Route Dep_Time Arrival_Time Duration  \\\n",
       "0  IndiGo  Banglore   New Delhi  BLR → DEL    22:20        01:10   2h 50m   \n",
       "\n",
       "  Total_Stops Additional_Info   Price  Date  Month  Year Arrival_hour  \\\n",
       "0    non-stop         No info  3897.0    24      3  2019           01   \n",
       "\n",
       "  Arrival_min  \n",
       "0          10  "
      ]
     },
     "execution_count": 20,
     "metadata": {},
     "output_type": "execute_result"
    }
   ],
   "source": [
    "final_df.head(1)"
   ]
  },
  {
   "cell_type": "code",
   "execution_count": 21,
   "id": "7ed8b3ac",
   "metadata": {
    "execution": {
     "iopub.execute_input": "2022-11-19T05:29:27.339743Z",
     "iopub.status.busy": "2022-11-19T05:29:27.339434Z",
     "iopub.status.idle": "2022-11-19T05:29:27.347477Z",
     "shell.execute_reply": "2022-11-19T05:29:27.346828Z"
    },
    "papermill": {
     "duration": 0.026804,
     "end_time": "2022-11-19T05:29:27.349112",
     "exception": false,
     "start_time": "2022-11-19T05:29:27.322308",
     "status": "completed"
    },
    "tags": []
   },
   "outputs": [],
   "source": [
    "final_df['Arrival_hour']=final_df['Arrival_hour'].astype(int)\n",
    "final_df['Arrival_min']=final_df['Arrival_hour'].astype(int)"
   ]
  },
  {
   "cell_type": "code",
   "execution_count": 22,
   "id": "543a5723",
   "metadata": {
    "execution": {
     "iopub.execute_input": "2022-11-19T05:29:27.385505Z",
     "iopub.status.busy": "2022-11-19T05:29:27.385188Z",
     "iopub.status.idle": "2022-11-19T05:29:27.392669Z",
     "shell.execute_reply": "2022-11-19T05:29:27.391290Z"
    },
    "papermill": {
     "duration": 0.027559,
     "end_time": "2022-11-19T05:29:27.394786",
     "exception": false,
     "start_time": "2022-11-19T05:29:27.367227",
     "status": "completed"
    },
    "tags": []
   },
   "outputs": [],
   "source": [
    "\n",
    "final_df.drop('Arrival_Time',axis=1,inplace=True)"
   ]
  },
  {
   "cell_type": "code",
   "execution_count": 23,
   "id": "3cac5214",
   "metadata": {
    "execution": {
     "iopub.execute_input": "2022-11-19T05:29:27.427608Z",
     "iopub.status.busy": "2022-11-19T05:29:27.427266Z",
     "iopub.status.idle": "2022-11-19T05:29:27.443543Z",
     "shell.execute_reply": "2022-11-19T05:29:27.442729Z"
    },
    "papermill": {
     "duration": 0.034386,
     "end_time": "2022-11-19T05:29:27.445054",
     "exception": false,
     "start_time": "2022-11-19T05:29:27.410668",
     "status": "completed"
    },
    "tags": []
   },
   "outputs": [
    {
     "data": {
      "text/html": [
       "<div>\n",
       "<style scoped>\n",
       "    .dataframe tbody tr th:only-of-type {\n",
       "        vertical-align: middle;\n",
       "    }\n",
       "\n",
       "    .dataframe tbody tr th {\n",
       "        vertical-align: top;\n",
       "    }\n",
       "\n",
       "    .dataframe thead th {\n",
       "        text-align: right;\n",
       "    }\n",
       "</style>\n",
       "<table border=\"1\" class=\"dataframe\">\n",
       "  <thead>\n",
       "    <tr style=\"text-align: right;\">\n",
       "      <th></th>\n",
       "      <th>Airline</th>\n",
       "      <th>Source</th>\n",
       "      <th>Destination</th>\n",
       "      <th>Route</th>\n",
       "      <th>Dep_Time</th>\n",
       "      <th>Duration</th>\n",
       "      <th>Total_Stops</th>\n",
       "      <th>Additional_Info</th>\n",
       "      <th>Price</th>\n",
       "      <th>Date</th>\n",
       "      <th>Month</th>\n",
       "      <th>Year</th>\n",
       "      <th>Arrival_hour</th>\n",
       "      <th>Arrival_min</th>\n",
       "    </tr>\n",
       "  </thead>\n",
       "  <tbody>\n",
       "    <tr>\n",
       "      <th>0</th>\n",
       "      <td>IndiGo</td>\n",
       "      <td>Banglore</td>\n",
       "      <td>New Delhi</td>\n",
       "      <td>BLR → DEL</td>\n",
       "      <td>22:20</td>\n",
       "      <td>2h 50m</td>\n",
       "      <td>non-stop</td>\n",
       "      <td>No info</td>\n",
       "      <td>3897.0</td>\n",
       "      <td>24</td>\n",
       "      <td>3</td>\n",
       "      <td>2019</td>\n",
       "      <td>1</td>\n",
       "      <td>1</td>\n",
       "    </tr>\n",
       "    <tr>\n",
       "      <th>1</th>\n",
       "      <td>Air India</td>\n",
       "      <td>Kolkata</td>\n",
       "      <td>Banglore</td>\n",
       "      <td>CCU → IXR → BBI → BLR</td>\n",
       "      <td>05:50</td>\n",
       "      <td>7h 25m</td>\n",
       "      <td>2 stops</td>\n",
       "      <td>No info</td>\n",
       "      <td>7662.0</td>\n",
       "      <td>1</td>\n",
       "      <td>5</td>\n",
       "      <td>2019</td>\n",
       "      <td>13</td>\n",
       "      <td>13</td>\n",
       "    </tr>\n",
       "    <tr>\n",
       "      <th>2</th>\n",
       "      <td>Jet Airways</td>\n",
       "      <td>Delhi</td>\n",
       "      <td>Cochin</td>\n",
       "      <td>DEL → LKO → BOM → COK</td>\n",
       "      <td>09:25</td>\n",
       "      <td>19h</td>\n",
       "      <td>2 stops</td>\n",
       "      <td>No info</td>\n",
       "      <td>13882.0</td>\n",
       "      <td>9</td>\n",
       "      <td>6</td>\n",
       "      <td>2019</td>\n",
       "      <td>4</td>\n",
       "      <td>4</td>\n",
       "    </tr>\n",
       "    <tr>\n",
       "      <th>3</th>\n",
       "      <td>IndiGo</td>\n",
       "      <td>Kolkata</td>\n",
       "      <td>Banglore</td>\n",
       "      <td>CCU → NAG → BLR</td>\n",
       "      <td>18:05</td>\n",
       "      <td>5h 25m</td>\n",
       "      <td>1 stop</td>\n",
       "      <td>No info</td>\n",
       "      <td>6218.0</td>\n",
       "      <td>12</td>\n",
       "      <td>5</td>\n",
       "      <td>2019</td>\n",
       "      <td>23</td>\n",
       "      <td>23</td>\n",
       "    </tr>\n",
       "    <tr>\n",
       "      <th>4</th>\n",
       "      <td>IndiGo</td>\n",
       "      <td>Banglore</td>\n",
       "      <td>New Delhi</td>\n",
       "      <td>BLR → NAG → DEL</td>\n",
       "      <td>16:50</td>\n",
       "      <td>4h 45m</td>\n",
       "      <td>1 stop</td>\n",
       "      <td>No info</td>\n",
       "      <td>13302.0</td>\n",
       "      <td>1</td>\n",
       "      <td>3</td>\n",
       "      <td>2019</td>\n",
       "      <td>21</td>\n",
       "      <td>21</td>\n",
       "    </tr>\n",
       "  </tbody>\n",
       "</table>\n",
       "</div>"
      ],
      "text/plain": [
       "       Airline    Source Destination                  Route Dep_Time Duration  \\\n",
       "0       IndiGo  Banglore   New Delhi              BLR → DEL    22:20   2h 50m   \n",
       "1    Air India   Kolkata    Banglore  CCU → IXR → BBI → BLR    05:50   7h 25m   \n",
       "2  Jet Airways     Delhi      Cochin  DEL → LKO → BOM → COK    09:25      19h   \n",
       "3       IndiGo   Kolkata    Banglore        CCU → NAG → BLR    18:05   5h 25m   \n",
       "4       IndiGo  Banglore   New Delhi        BLR → NAG → DEL    16:50   4h 45m   \n",
       "\n",
       "  Total_Stops Additional_Info    Price  Date  Month  Year  Arrival_hour  \\\n",
       "0    non-stop         No info   3897.0    24      3  2019             1   \n",
       "1     2 stops         No info   7662.0     1      5  2019            13   \n",
       "2     2 stops         No info  13882.0     9      6  2019             4   \n",
       "3      1 stop         No info   6218.0    12      5  2019            23   \n",
       "4      1 stop         No info  13302.0     1      3  2019            21   \n",
       "\n",
       "   Arrival_min  \n",
       "0            1  \n",
       "1           13  \n",
       "2            4  \n",
       "3           23  \n",
       "4           21  "
      ]
     },
     "execution_count": 23,
     "metadata": {},
     "output_type": "execute_result"
    }
   ],
   "source": [
    "final_df.head()"
   ]
  },
  {
   "cell_type": "code",
   "execution_count": 24,
   "id": "f95c1137",
   "metadata": {
    "execution": {
     "iopub.execute_input": "2022-11-19T05:29:27.479361Z",
     "iopub.status.busy": "2022-11-19T05:29:27.479044Z",
     "iopub.status.idle": "2022-11-19T05:29:27.498575Z",
     "shell.execute_reply": "2022-11-19T05:29:27.497117Z"
    },
    "papermill": {
     "duration": 0.040031,
     "end_time": "2022-11-19T05:29:27.501018",
     "exception": false,
     "start_time": "2022-11-19T05:29:27.460987",
     "status": "completed"
    },
    "tags": []
   },
   "outputs": [
    {
     "name": "stdout",
     "output_type": "stream",
     "text": [
      "<class 'pandas.core.frame.DataFrame'>\n",
      "Int64Index: 13354 entries, 0 to 2670\n",
      "Data columns (total 14 columns):\n",
      " #   Column           Non-Null Count  Dtype  \n",
      "---  ------           --------------  -----  \n",
      " 0   Airline          13354 non-null  object \n",
      " 1   Source           13354 non-null  object \n",
      " 2   Destination      13354 non-null  object \n",
      " 3   Route            13353 non-null  object \n",
      " 4   Dep_Time         13354 non-null  object \n",
      " 5   Duration         13354 non-null  object \n",
      " 6   Total_Stops      13353 non-null  object \n",
      " 7   Additional_Info  13354 non-null  object \n",
      " 8   Price            10683 non-null  float64\n",
      " 9   Date             13354 non-null  int64  \n",
      " 10  Month            13354 non-null  int64  \n",
      " 11  Year             13354 non-null  int64  \n",
      " 12  Arrival_hour     13354 non-null  int64  \n",
      " 13  Arrival_min      13354 non-null  int64  \n",
      "dtypes: float64(1), int64(5), object(8)\n",
      "memory usage: 1.5+ MB\n"
     ]
    }
   ],
   "source": [
    "final_df.info()"
   ]
  },
  {
   "cell_type": "code",
   "execution_count": 25,
   "id": "da82c6da",
   "metadata": {
    "execution": {
     "iopub.execute_input": "2022-11-19T05:29:27.535150Z",
     "iopub.status.busy": "2022-11-19T05:29:27.534609Z",
     "iopub.status.idle": "2022-11-19T05:29:27.569443Z",
     "shell.execute_reply": "2022-11-19T05:29:27.567938Z"
    },
    "papermill": {
     "duration": 0.054068,
     "end_time": "2022-11-19T05:29:27.571515",
     "exception": false,
     "start_time": "2022-11-19T05:29:27.517447",
     "status": "completed"
    },
    "tags": []
   },
   "outputs": [],
   "source": [
    "final_df['Dept_hour']=final_df['Dep_Time'].str.split(':').str[0]\n",
    "final_df['Dept_min']=final_df['Dep_Time'].str.split(':').str[1]"
   ]
  },
  {
   "cell_type": "code",
   "execution_count": 26,
   "id": "da56403a",
   "metadata": {
    "execution": {
     "iopub.execute_input": "2022-11-19T05:29:27.608967Z",
     "iopub.status.busy": "2022-11-19T05:29:27.607963Z",
     "iopub.status.idle": "2022-11-19T05:29:27.618633Z",
     "shell.execute_reply": "2022-11-19T05:29:27.617829Z"
    },
    "papermill": {
     "duration": 0.033702,
     "end_time": "2022-11-19T05:29:27.621226",
     "exception": false,
     "start_time": "2022-11-19T05:29:27.587524",
     "status": "completed"
    },
    "tags": []
   },
   "outputs": [],
   "source": [
    "final_df['Dept_hour']=final_df['Dept_hour'].astype(int)\n",
    "final_df['Dept_min']=final_df['Dept_min'].astype(int)"
   ]
  },
  {
   "cell_type": "code",
   "execution_count": 27,
   "id": "c88d12b1",
   "metadata": {
    "execution": {
     "iopub.execute_input": "2022-11-19T05:29:27.667390Z",
     "iopub.status.busy": "2022-11-19T05:29:27.666224Z",
     "iopub.status.idle": "2022-11-19T05:29:27.673568Z",
     "shell.execute_reply": "2022-11-19T05:29:27.672262Z"
    },
    "papermill": {
     "duration": 0.031845,
     "end_time": "2022-11-19T05:29:27.675682",
     "exception": false,
     "start_time": "2022-11-19T05:29:27.643837",
     "status": "completed"
    },
    "tags": []
   },
   "outputs": [],
   "source": [
    "final_df.drop('Dep_Time',axis=1,inplace=True)"
   ]
  },
  {
   "cell_type": "code",
   "execution_count": 28,
   "id": "6e85fdca",
   "metadata": {
    "execution": {
     "iopub.execute_input": "2022-11-19T05:29:27.710359Z",
     "iopub.status.busy": "2022-11-19T05:29:27.710083Z",
     "iopub.status.idle": "2022-11-19T05:29:27.724995Z",
     "shell.execute_reply": "2022-11-19T05:29:27.723864Z"
    },
    "papermill": {
     "duration": 0.034694,
     "end_time": "2022-11-19T05:29:27.726572",
     "exception": false,
     "start_time": "2022-11-19T05:29:27.691878",
     "status": "completed"
    },
    "tags": []
   },
   "outputs": [
    {
     "name": "stdout",
     "output_type": "stream",
     "text": [
      "<class 'pandas.core.frame.DataFrame'>\n",
      "Int64Index: 13354 entries, 0 to 2670\n",
      "Data columns (total 15 columns):\n",
      " #   Column           Non-Null Count  Dtype  \n",
      "---  ------           --------------  -----  \n",
      " 0   Airline          13354 non-null  object \n",
      " 1   Source           13354 non-null  object \n",
      " 2   Destination      13354 non-null  object \n",
      " 3   Route            13353 non-null  object \n",
      " 4   Duration         13354 non-null  object \n",
      " 5   Total_Stops      13353 non-null  object \n",
      " 6   Additional_Info  13354 non-null  object \n",
      " 7   Price            10683 non-null  float64\n",
      " 8   Date             13354 non-null  int64  \n",
      " 9   Month            13354 non-null  int64  \n",
      " 10  Year             13354 non-null  int64  \n",
      " 11  Arrival_hour     13354 non-null  int64  \n",
      " 12  Arrival_min      13354 non-null  int64  \n",
      " 13  Dept_hour        13354 non-null  int64  \n",
      " 14  Dept_min         13354 non-null  int64  \n",
      "dtypes: float64(1), int64(7), object(7)\n",
      "memory usage: 1.6+ MB\n"
     ]
    }
   ],
   "source": [
    "final_df.info()"
   ]
  },
  {
   "cell_type": "code",
   "execution_count": 29,
   "id": "fa0e05bc",
   "metadata": {
    "execution": {
     "iopub.execute_input": "2022-11-19T05:29:27.760962Z",
     "iopub.status.busy": "2022-11-19T05:29:27.760186Z",
     "iopub.status.idle": "2022-11-19T05:29:27.766577Z",
     "shell.execute_reply": "2022-11-19T05:29:27.765770Z"
    },
    "papermill": {
     "duration": 0.025183,
     "end_time": "2022-11-19T05:29:27.768197",
     "exception": false,
     "start_time": "2022-11-19T05:29:27.743014",
     "status": "completed"
    },
    "tags": []
   },
   "outputs": [
    {
     "data": {
      "text/plain": [
       "array(['non-stop', '2 stops', '1 stop', '3 stops', nan, '4 stops'],\n",
       "      dtype=object)"
      ]
     },
     "execution_count": 29,
     "metadata": {},
     "output_type": "execute_result"
    }
   ],
   "source": [
    "final_df['Total_Stops'].unique()"
   ]
  },
  {
   "cell_type": "code",
   "execution_count": 30,
   "id": "bc7ff676",
   "metadata": {
    "execution": {
     "iopub.execute_input": "2022-11-19T05:29:27.802535Z",
     "iopub.status.busy": "2022-11-19T05:29:27.801618Z",
     "iopub.status.idle": "2022-11-19T05:29:27.808623Z",
     "shell.execute_reply": "2022-11-19T05:29:27.807978Z"
    },
    "papermill": {
     "duration": 0.026424,
     "end_time": "2022-11-19T05:29:27.810741",
     "exception": false,
     "start_time": "2022-11-19T05:29:27.784317",
     "status": "completed"
    },
    "tags": []
   },
   "outputs": [],
   "source": [
    "final_df['Total_Stops']=final_df['Total_Stops'].map({'non-stop':0,'1 stop':1,'2 stops':2,'3 stops':3,'4 stops':4,'nan':1})"
   ]
  },
  {
   "cell_type": "code",
   "execution_count": 31,
   "id": "cf7bbea2",
   "metadata": {
    "execution": {
     "iopub.execute_input": "2022-11-19T05:29:27.845562Z",
     "iopub.status.busy": "2022-11-19T05:29:27.845125Z",
     "iopub.status.idle": "2022-11-19T05:29:27.857647Z",
     "shell.execute_reply": "2022-11-19T05:29:27.856681Z"
    },
    "papermill": {
     "duration": 0.032858,
     "end_time": "2022-11-19T05:29:27.860083",
     "exception": false,
     "start_time": "2022-11-19T05:29:27.827225",
     "status": "completed"
    },
    "tags": []
   },
   "outputs": [
    {
     "data": {
      "text/html": [
       "<div>\n",
       "<style scoped>\n",
       "    .dataframe tbody tr th:only-of-type {\n",
       "        vertical-align: middle;\n",
       "    }\n",
       "\n",
       "    .dataframe tbody tr th {\n",
       "        vertical-align: top;\n",
       "    }\n",
       "\n",
       "    .dataframe thead th {\n",
       "        text-align: right;\n",
       "    }\n",
       "</style>\n",
       "<table border=\"1\" class=\"dataframe\">\n",
       "  <thead>\n",
       "    <tr style=\"text-align: right;\">\n",
       "      <th></th>\n",
       "      <th>Airline</th>\n",
       "      <th>Source</th>\n",
       "      <th>Destination</th>\n",
       "      <th>Route</th>\n",
       "      <th>Duration</th>\n",
       "      <th>Total_Stops</th>\n",
       "      <th>Additional_Info</th>\n",
       "      <th>Price</th>\n",
       "      <th>Date</th>\n",
       "      <th>Month</th>\n",
       "      <th>Year</th>\n",
       "      <th>Arrival_hour</th>\n",
       "      <th>Arrival_min</th>\n",
       "      <th>Dept_hour</th>\n",
       "      <th>Dept_min</th>\n",
       "    </tr>\n",
       "  </thead>\n",
       "  <tbody>\n",
       "    <tr>\n",
       "      <th>9039</th>\n",
       "      <td>Air India</td>\n",
       "      <td>Delhi</td>\n",
       "      <td>Cochin</td>\n",
       "      <td>NaN</td>\n",
       "      <td>23h 40m</td>\n",
       "      <td>NaN</td>\n",
       "      <td>No info</td>\n",
       "      <td>7480.0</td>\n",
       "      <td>6</td>\n",
       "      <td>5</td>\n",
       "      <td>2019</td>\n",
       "      <td>9</td>\n",
       "      <td>9</td>\n",
       "      <td>9</td>\n",
       "      <td>45</td>\n",
       "    </tr>\n",
       "  </tbody>\n",
       "</table>\n",
       "</div>"
      ],
      "text/plain": [
       "        Airline Source Destination Route Duration  Total_Stops  \\\n",
       "9039  Air India  Delhi      Cochin   NaN  23h 40m          NaN   \n",
       "\n",
       "     Additional_Info   Price  Date  Month  Year  Arrival_hour  Arrival_min  \\\n",
       "9039         No info  7480.0     6      5  2019             9            9   \n",
       "\n",
       "      Dept_hour  Dept_min  \n",
       "9039          9        45  "
      ]
     },
     "execution_count": 31,
     "metadata": {},
     "output_type": "execute_result"
    }
   ],
   "source": [
    "final_df[final_df['Total_Stops'].isnull()]"
   ]
  },
  {
   "cell_type": "code",
   "execution_count": 32,
   "id": "562947e7",
   "metadata": {
    "execution": {
     "iopub.execute_input": "2022-11-19T05:29:27.894187Z",
     "iopub.status.busy": "2022-11-19T05:29:27.893912Z",
     "iopub.status.idle": "2022-11-19T05:29:27.899841Z",
     "shell.execute_reply": "2022-11-19T05:29:27.899149Z"
    },
    "papermill": {
     "duration": 0.024645,
     "end_time": "2022-11-19T05:29:27.901399",
     "exception": false,
     "start_time": "2022-11-19T05:29:27.876754",
     "status": "completed"
    },
    "tags": []
   },
   "outputs": [],
   "source": [
    "final_df.drop('Route',axis=1,inplace=True)"
   ]
  },
  {
   "cell_type": "code",
   "execution_count": 33,
   "id": "6988542f",
   "metadata": {
    "execution": {
     "iopub.execute_input": "2022-11-19T05:29:27.936583Z",
     "iopub.status.busy": "2022-11-19T05:29:27.936161Z",
     "iopub.status.idle": "2022-11-19T05:29:27.948881Z",
     "shell.execute_reply": "2022-11-19T05:29:27.947798Z"
    },
    "papermill": {
     "duration": 0.032945,
     "end_time": "2022-11-19T05:29:27.950795",
     "exception": false,
     "start_time": "2022-11-19T05:29:27.917850",
     "status": "completed"
    },
    "tags": []
   },
   "outputs": [
    {
     "data": {
      "text/html": [
       "<div>\n",
       "<style scoped>\n",
       "    .dataframe tbody tr th:only-of-type {\n",
       "        vertical-align: middle;\n",
       "    }\n",
       "\n",
       "    .dataframe tbody tr th {\n",
       "        vertical-align: top;\n",
       "    }\n",
       "\n",
       "    .dataframe thead th {\n",
       "        text-align: right;\n",
       "    }\n",
       "</style>\n",
       "<table border=\"1\" class=\"dataframe\">\n",
       "  <thead>\n",
       "    <tr style=\"text-align: right;\">\n",
       "      <th></th>\n",
       "      <th>Airline</th>\n",
       "      <th>Source</th>\n",
       "      <th>Destination</th>\n",
       "      <th>Duration</th>\n",
       "      <th>Total_Stops</th>\n",
       "      <th>Additional_Info</th>\n",
       "      <th>Price</th>\n",
       "      <th>Date</th>\n",
       "      <th>Month</th>\n",
       "      <th>Year</th>\n",
       "      <th>Arrival_hour</th>\n",
       "      <th>Arrival_min</th>\n",
       "      <th>Dept_hour</th>\n",
       "      <th>Dept_min</th>\n",
       "    </tr>\n",
       "  </thead>\n",
       "  <tbody>\n",
       "    <tr>\n",
       "      <th>0</th>\n",
       "      <td>IndiGo</td>\n",
       "      <td>Banglore</td>\n",
       "      <td>New Delhi</td>\n",
       "      <td>2h 50m</td>\n",
       "      <td>0.0</td>\n",
       "      <td>No info</td>\n",
       "      <td>3897.0</td>\n",
       "      <td>24</td>\n",
       "      <td>3</td>\n",
       "      <td>2019</td>\n",
       "      <td>1</td>\n",
       "      <td>1</td>\n",
       "      <td>22</td>\n",
       "      <td>20</td>\n",
       "    </tr>\n",
       "    <tr>\n",
       "      <th>1</th>\n",
       "      <td>Air India</td>\n",
       "      <td>Kolkata</td>\n",
       "      <td>Banglore</td>\n",
       "      <td>7h 25m</td>\n",
       "      <td>2.0</td>\n",
       "      <td>No info</td>\n",
       "      <td>7662.0</td>\n",
       "      <td>1</td>\n",
       "      <td>5</td>\n",
       "      <td>2019</td>\n",
       "      <td>13</td>\n",
       "      <td>13</td>\n",
       "      <td>5</td>\n",
       "      <td>50</td>\n",
       "    </tr>\n",
       "    <tr>\n",
       "      <th>2</th>\n",
       "      <td>Jet Airways</td>\n",
       "      <td>Delhi</td>\n",
       "      <td>Cochin</td>\n",
       "      <td>19h</td>\n",
       "      <td>2.0</td>\n",
       "      <td>No info</td>\n",
       "      <td>13882.0</td>\n",
       "      <td>9</td>\n",
       "      <td>6</td>\n",
       "      <td>2019</td>\n",
       "      <td>4</td>\n",
       "      <td>4</td>\n",
       "      <td>9</td>\n",
       "      <td>25</td>\n",
       "    </tr>\n",
       "    <tr>\n",
       "      <th>3</th>\n",
       "      <td>IndiGo</td>\n",
       "      <td>Kolkata</td>\n",
       "      <td>Banglore</td>\n",
       "      <td>5h 25m</td>\n",
       "      <td>1.0</td>\n",
       "      <td>No info</td>\n",
       "      <td>6218.0</td>\n",
       "      <td>12</td>\n",
       "      <td>5</td>\n",
       "      <td>2019</td>\n",
       "      <td>23</td>\n",
       "      <td>23</td>\n",
       "      <td>18</td>\n",
       "      <td>5</td>\n",
       "    </tr>\n",
       "    <tr>\n",
       "      <th>4</th>\n",
       "      <td>IndiGo</td>\n",
       "      <td>Banglore</td>\n",
       "      <td>New Delhi</td>\n",
       "      <td>4h 45m</td>\n",
       "      <td>1.0</td>\n",
       "      <td>No info</td>\n",
       "      <td>13302.0</td>\n",
       "      <td>1</td>\n",
       "      <td>3</td>\n",
       "      <td>2019</td>\n",
       "      <td>21</td>\n",
       "      <td>21</td>\n",
       "      <td>16</td>\n",
       "      <td>50</td>\n",
       "    </tr>\n",
       "  </tbody>\n",
       "</table>\n",
       "</div>"
      ],
      "text/plain": [
       "       Airline    Source Destination Duration  Total_Stops Additional_Info  \\\n",
       "0       IndiGo  Banglore   New Delhi   2h 50m          0.0         No info   \n",
       "1    Air India   Kolkata    Banglore   7h 25m          2.0         No info   \n",
       "2  Jet Airways     Delhi      Cochin      19h          2.0         No info   \n",
       "3       IndiGo   Kolkata    Banglore   5h 25m          1.0         No info   \n",
       "4       IndiGo  Banglore   New Delhi   4h 45m          1.0         No info   \n",
       "\n",
       "     Price  Date  Month  Year  Arrival_hour  Arrival_min  Dept_hour  Dept_min  \n",
       "0   3897.0    24      3  2019             1            1         22        20  \n",
       "1   7662.0     1      5  2019            13           13          5        50  \n",
       "2  13882.0     9      6  2019             4            4          9        25  \n",
       "3   6218.0    12      5  2019            23           23         18         5  \n",
       "4  13302.0     1      3  2019            21           21         16        50  "
      ]
     },
     "execution_count": 33,
     "metadata": {},
     "output_type": "execute_result"
    }
   ],
   "source": [
    "final_df.head()"
   ]
  },
  {
   "cell_type": "code",
   "execution_count": 34,
   "id": "b514e2a9",
   "metadata": {
    "execution": {
     "iopub.execute_input": "2022-11-19T05:29:27.985580Z",
     "iopub.status.busy": "2022-11-19T05:29:27.985147Z",
     "iopub.status.idle": "2022-11-19T05:29:27.993111Z",
     "shell.execute_reply": "2022-11-19T05:29:27.991836Z"
    },
    "papermill": {
     "duration": 0.026974,
     "end_time": "2022-11-19T05:29:27.994689",
     "exception": false,
     "start_time": "2022-11-19T05:29:27.967715",
     "status": "completed"
    },
    "tags": []
   },
   "outputs": [
    {
     "data": {
      "text/plain": [
       "array(['No info', 'In-flight meal not included',\n",
       "       'No check-in baggage included', '1 Short layover', 'No Info',\n",
       "       '1 Long layover', 'Change airports', 'Business class',\n",
       "       'Red-eye flight', '2 Long layover'], dtype=object)"
      ]
     },
     "execution_count": 34,
     "metadata": {},
     "output_type": "execute_result"
    }
   ],
   "source": [
    "final_df['Additional_Info'].unique()"
   ]
  },
  {
   "cell_type": "code",
   "execution_count": 35,
   "id": "60813476",
   "metadata": {
    "execution": {
     "iopub.execute_input": "2022-11-19T05:29:28.030903Z",
     "iopub.status.busy": "2022-11-19T05:29:28.029729Z",
     "iopub.status.idle": "2022-11-19T05:29:28.072850Z",
     "shell.execute_reply": "2022-11-19T05:29:28.071642Z"
    },
    "papermill": {
     "duration": 0.063058,
     "end_time": "2022-11-19T05:29:28.074632",
     "exception": false,
     "start_time": "2022-11-19T05:29:28.011574",
     "status": "completed"
    },
    "tags": []
   },
   "outputs": [
    {
     "data": {
      "text/plain": [
       "0        2\n",
       "1        7\n",
       "2       19\n",
       "3        5\n",
       "4        4\n",
       "        ..\n",
       "2666    23\n",
       "2667     2\n",
       "2668     6\n",
       "2669    15\n",
       "2670    14\n",
       "Name: Duration, Length: 13354, dtype: object"
      ]
     },
     "execution_count": 35,
     "metadata": {},
     "output_type": "execute_result"
    }
   ],
   "source": [
    "final_df['Duration'].str.split(' ').str[0].str.split('h').str[0]"
   ]
  },
  {
   "cell_type": "code",
   "execution_count": 36,
   "id": "d82c0460",
   "metadata": {
    "execution": {
     "iopub.execute_input": "2022-11-19T05:29:28.110375Z",
     "iopub.status.busy": "2022-11-19T05:29:28.109566Z",
     "iopub.status.idle": "2022-11-19T05:29:28.235656Z",
     "shell.execute_reply": "2022-11-19T05:29:28.235023Z"
    },
    "papermill": {
     "duration": 0.145833,
     "end_time": "2022-11-19T05:29:28.237643",
     "exception": false,
     "start_time": "2022-11-19T05:29:28.091810",
     "status": "completed"
    },
    "tags": []
   },
   "outputs": [],
   "source": [
    "final_df['duration_hour']=final_df['Duration'].str.split(' ').str[0].str.split('h').str[0]\n"
   ]
  },
  {
   "cell_type": "code",
   "execution_count": 37,
   "id": "cf79697c",
   "metadata": {
    "execution": {
     "iopub.execute_input": "2022-11-19T05:29:28.272089Z",
     "iopub.status.busy": "2022-11-19T05:29:28.271713Z",
     "iopub.status.idle": "2022-11-19T05:29:28.289096Z",
     "shell.execute_reply": "2022-11-19T05:29:28.287999Z"
    },
    "papermill": {
     "duration": 0.036644,
     "end_time": "2022-11-19T05:29:28.291047",
     "exception": false,
     "start_time": "2022-11-19T05:29:28.254403",
     "status": "completed"
    },
    "tags": []
   },
   "outputs": [
    {
     "data": {
      "text/html": [
       "<div>\n",
       "<style scoped>\n",
       "    .dataframe tbody tr th:only-of-type {\n",
       "        vertical-align: middle;\n",
       "    }\n",
       "\n",
       "    .dataframe tbody tr th {\n",
       "        vertical-align: top;\n",
       "    }\n",
       "\n",
       "    .dataframe thead th {\n",
       "        text-align: right;\n",
       "    }\n",
       "</style>\n",
       "<table border=\"1\" class=\"dataframe\">\n",
       "  <thead>\n",
       "    <tr style=\"text-align: right;\">\n",
       "      <th></th>\n",
       "      <th>Airline</th>\n",
       "      <th>Source</th>\n",
       "      <th>Destination</th>\n",
       "      <th>Duration</th>\n",
       "      <th>Total_Stops</th>\n",
       "      <th>Additional_Info</th>\n",
       "      <th>Price</th>\n",
       "      <th>Date</th>\n",
       "      <th>Month</th>\n",
       "      <th>Year</th>\n",
       "      <th>Arrival_hour</th>\n",
       "      <th>Arrival_min</th>\n",
       "      <th>Dept_hour</th>\n",
       "      <th>Dept_min</th>\n",
       "      <th>duration_hour</th>\n",
       "    </tr>\n",
       "  </thead>\n",
       "  <tbody>\n",
       "    <tr>\n",
       "      <th>6474</th>\n",
       "      <td>Air India</td>\n",
       "      <td>Mumbai</td>\n",
       "      <td>Hyderabad</td>\n",
       "      <td>5m</td>\n",
       "      <td>2.0</td>\n",
       "      <td>No info</td>\n",
       "      <td>17327.0</td>\n",
       "      <td>6</td>\n",
       "      <td>3</td>\n",
       "      <td>2019</td>\n",
       "      <td>16</td>\n",
       "      <td>16</td>\n",
       "      <td>16</td>\n",
       "      <td>50</td>\n",
       "      <td>5m</td>\n",
       "    </tr>\n",
       "    <tr>\n",
       "      <th>2660</th>\n",
       "      <td>Air India</td>\n",
       "      <td>Mumbai</td>\n",
       "      <td>Hyderabad</td>\n",
       "      <td>5m</td>\n",
       "      <td>2.0</td>\n",
       "      <td>No info</td>\n",
       "      <td>NaN</td>\n",
       "      <td>12</td>\n",
       "      <td>3</td>\n",
       "      <td>2019</td>\n",
       "      <td>16</td>\n",
       "      <td>16</td>\n",
       "      <td>16</td>\n",
       "      <td>50</td>\n",
       "      <td>5m</td>\n",
       "    </tr>\n",
       "  </tbody>\n",
       "</table>\n",
       "</div>"
      ],
      "text/plain": [
       "        Airline  Source Destination Duration  Total_Stops Additional_Info  \\\n",
       "6474  Air India  Mumbai   Hyderabad       5m          2.0         No info   \n",
       "2660  Air India  Mumbai   Hyderabad       5m          2.0         No info   \n",
       "\n",
       "        Price  Date  Month  Year  Arrival_hour  Arrival_min  Dept_hour  \\\n",
       "6474  17327.0     6      3  2019            16           16         16   \n",
       "2660      NaN    12      3  2019            16           16         16   \n",
       "\n",
       "      Dept_min duration_hour  \n",
       "6474        50            5m  \n",
       "2660        50            5m  "
      ]
     },
     "execution_count": 37,
     "metadata": {},
     "output_type": "execute_result"
    }
   ],
   "source": [
    "final_df[final_df['duration_hour']=='5m']"
   ]
  },
  {
   "cell_type": "code",
   "execution_count": 38,
   "id": "8fea4e1b",
   "metadata": {
    "execution": {
     "iopub.execute_input": "2022-11-19T05:29:28.328458Z",
     "iopub.status.busy": "2022-11-19T05:29:28.328166Z",
     "iopub.status.idle": "2022-11-19T05:29:28.343930Z",
     "shell.execute_reply": "2022-11-19T05:29:28.343268Z"
    },
    "papermill": {
     "duration": 0.036392,
     "end_time": "2022-11-19T05:29:28.345876",
     "exception": false,
     "start_time": "2022-11-19T05:29:28.309484",
     "status": "completed"
    },
    "tags": []
   },
   "outputs": [],
   "source": [
    "final_df.drop(6474,axis=0,inplace=True)\n",
    "final_df.drop(2660,axis=0,inplace=True)"
   ]
  },
  {
   "cell_type": "code",
   "execution_count": 39,
   "id": "bc3206f6",
   "metadata": {
    "execution": {
     "iopub.execute_input": "2022-11-19T05:29:28.381641Z",
     "iopub.status.busy": "2022-11-19T05:29:28.380318Z",
     "iopub.status.idle": "2022-11-19T05:29:28.389396Z",
     "shell.execute_reply": "2022-11-19T05:29:28.388788Z"
    },
    "papermill": {
     "duration": 0.028712,
     "end_time": "2022-11-19T05:29:28.391339",
     "exception": false,
     "start_time": "2022-11-19T05:29:28.362627",
     "status": "completed"
    },
    "tags": []
   },
   "outputs": [],
   "source": [
    "final_df['duration_hour']=final_df['duration_hour'].astype('int')\n"
   ]
  },
  {
   "cell_type": "code",
   "execution_count": 40,
   "id": "eccfbd39",
   "metadata": {
    "execution": {
     "iopub.execute_input": "2022-11-19T05:29:28.427459Z",
     "iopub.status.busy": "2022-11-19T05:29:28.426786Z",
     "iopub.status.idle": "2022-11-19T05:29:28.434516Z",
     "shell.execute_reply": "2022-11-19T05:29:28.433321Z"
    },
    "papermill": {
     "duration": 0.027924,
     "end_time": "2022-11-19T05:29:28.436381",
     "exception": false,
     "start_time": "2022-11-19T05:29:28.408457",
     "status": "completed"
    },
    "tags": []
   },
   "outputs": [],
   "source": [
    "final_df.drop('Duration',axis=1,inplace=True)\n"
   ]
  },
  {
   "cell_type": "code",
   "execution_count": 41,
   "id": "134bacb6",
   "metadata": {
    "execution": {
     "iopub.execute_input": "2022-11-19T05:29:28.471439Z",
     "iopub.status.busy": "2022-11-19T05:29:28.471116Z",
     "iopub.status.idle": "2022-11-19T05:29:28.485388Z",
     "shell.execute_reply": "2022-11-19T05:29:28.484573Z"
    },
    "papermill": {
     "duration": 0.034093,
     "end_time": "2022-11-19T05:29:28.487154",
     "exception": false,
     "start_time": "2022-11-19T05:29:28.453061",
     "status": "completed"
    },
    "tags": []
   },
   "outputs": [
    {
     "data": {
      "text/html": [
       "<div>\n",
       "<style scoped>\n",
       "    .dataframe tbody tr th:only-of-type {\n",
       "        vertical-align: middle;\n",
       "    }\n",
       "\n",
       "    .dataframe tbody tr th {\n",
       "        vertical-align: top;\n",
       "    }\n",
       "\n",
       "    .dataframe thead th {\n",
       "        text-align: right;\n",
       "    }\n",
       "</style>\n",
       "<table border=\"1\" class=\"dataframe\">\n",
       "  <thead>\n",
       "    <tr style=\"text-align: right;\">\n",
       "      <th></th>\n",
       "      <th>Airline</th>\n",
       "      <th>Source</th>\n",
       "      <th>Destination</th>\n",
       "      <th>Total_Stops</th>\n",
       "      <th>Additional_Info</th>\n",
       "      <th>Price</th>\n",
       "      <th>Date</th>\n",
       "      <th>Month</th>\n",
       "      <th>Year</th>\n",
       "      <th>Arrival_hour</th>\n",
       "      <th>Arrival_min</th>\n",
       "      <th>Dept_hour</th>\n",
       "      <th>Dept_min</th>\n",
       "      <th>duration_hour</th>\n",
       "    </tr>\n",
       "  </thead>\n",
       "  <tbody>\n",
       "    <tr>\n",
       "      <th>0</th>\n",
       "      <td>IndiGo</td>\n",
       "      <td>Banglore</td>\n",
       "      <td>New Delhi</td>\n",
       "      <td>0.0</td>\n",
       "      <td>No info</td>\n",
       "      <td>3897.0</td>\n",
       "      <td>24</td>\n",
       "      <td>3</td>\n",
       "      <td>2019</td>\n",
       "      <td>1</td>\n",
       "      <td>1</td>\n",
       "      <td>22</td>\n",
       "      <td>20</td>\n",
       "      <td>2</td>\n",
       "    </tr>\n",
       "    <tr>\n",
       "      <th>1</th>\n",
       "      <td>Air India</td>\n",
       "      <td>Kolkata</td>\n",
       "      <td>Banglore</td>\n",
       "      <td>2.0</td>\n",
       "      <td>No info</td>\n",
       "      <td>7662.0</td>\n",
       "      <td>1</td>\n",
       "      <td>5</td>\n",
       "      <td>2019</td>\n",
       "      <td>13</td>\n",
       "      <td>13</td>\n",
       "      <td>5</td>\n",
       "      <td>50</td>\n",
       "      <td>7</td>\n",
       "    </tr>\n",
       "    <tr>\n",
       "      <th>2</th>\n",
       "      <td>Jet Airways</td>\n",
       "      <td>Delhi</td>\n",
       "      <td>Cochin</td>\n",
       "      <td>2.0</td>\n",
       "      <td>No info</td>\n",
       "      <td>13882.0</td>\n",
       "      <td>9</td>\n",
       "      <td>6</td>\n",
       "      <td>2019</td>\n",
       "      <td>4</td>\n",
       "      <td>4</td>\n",
       "      <td>9</td>\n",
       "      <td>25</td>\n",
       "      <td>19</td>\n",
       "    </tr>\n",
       "    <tr>\n",
       "      <th>3</th>\n",
       "      <td>IndiGo</td>\n",
       "      <td>Kolkata</td>\n",
       "      <td>Banglore</td>\n",
       "      <td>1.0</td>\n",
       "      <td>No info</td>\n",
       "      <td>6218.0</td>\n",
       "      <td>12</td>\n",
       "      <td>5</td>\n",
       "      <td>2019</td>\n",
       "      <td>23</td>\n",
       "      <td>23</td>\n",
       "      <td>18</td>\n",
       "      <td>5</td>\n",
       "      <td>5</td>\n",
       "    </tr>\n",
       "    <tr>\n",
       "      <th>4</th>\n",
       "      <td>IndiGo</td>\n",
       "      <td>Banglore</td>\n",
       "      <td>New Delhi</td>\n",
       "      <td>1.0</td>\n",
       "      <td>No info</td>\n",
       "      <td>13302.0</td>\n",
       "      <td>1</td>\n",
       "      <td>3</td>\n",
       "      <td>2019</td>\n",
       "      <td>21</td>\n",
       "      <td>21</td>\n",
       "      <td>16</td>\n",
       "      <td>50</td>\n",
       "      <td>4</td>\n",
       "    </tr>\n",
       "  </tbody>\n",
       "</table>\n",
       "</div>"
      ],
      "text/plain": [
       "       Airline    Source Destination  Total_Stops Additional_Info    Price  \\\n",
       "0       IndiGo  Banglore   New Delhi          0.0         No info   3897.0   \n",
       "1    Air India   Kolkata    Banglore          2.0         No info   7662.0   \n",
       "2  Jet Airways     Delhi      Cochin          2.0         No info  13882.0   \n",
       "3       IndiGo   Kolkata    Banglore          1.0         No info   6218.0   \n",
       "4       IndiGo  Banglore   New Delhi          1.0         No info  13302.0   \n",
       "\n",
       "   Date  Month  Year  Arrival_hour  Arrival_min  Dept_hour  Dept_min  \\\n",
       "0    24      3  2019             1            1         22        20   \n",
       "1     1      5  2019            13           13          5        50   \n",
       "2     9      6  2019             4            4          9        25   \n",
       "3    12      5  2019            23           23         18         5   \n",
       "4     1      3  2019            21           21         16        50   \n",
       "\n",
       "   duration_hour  \n",
       "0              2  \n",
       "1              7  \n",
       "2             19  \n",
       "3              5  \n",
       "4              4  "
      ]
     },
     "execution_count": 41,
     "metadata": {},
     "output_type": "execute_result"
    }
   ],
   "source": [
    "final_df.head()"
   ]
  },
  {
   "cell_type": "code",
   "execution_count": 42,
   "id": "b255c30d",
   "metadata": {
    "execution": {
     "iopub.execute_input": "2022-11-19T05:29:28.523354Z",
     "iopub.status.busy": "2022-11-19T05:29:28.522365Z",
     "iopub.status.idle": "2022-11-19T05:29:28.530963Z",
     "shell.execute_reply": "2022-11-19T05:29:28.530100Z"
    },
    "papermill": {
     "duration": 0.02866,
     "end_time": "2022-11-19T05:29:28.532932",
     "exception": false,
     "start_time": "2022-11-19T05:29:28.504272",
     "status": "completed"
    },
    "tags": []
   },
   "outputs": [
    {
     "data": {
      "text/plain": [
       "array(['IndiGo', 'Air India', 'Jet Airways', 'SpiceJet',\n",
       "       'Multiple carriers', 'GoAir', 'Vistara', 'Air Asia',\n",
       "       'Vistara Premium economy', 'Jet Airways Business',\n",
       "       'Multiple carriers Premium economy', 'Trujet'], dtype=object)"
      ]
     },
     "execution_count": 42,
     "metadata": {},
     "output_type": "execute_result"
    }
   ],
   "source": [
    "final_df['Airline'].unique()"
   ]
  },
  {
   "cell_type": "code",
   "execution_count": 43,
   "id": "1ba4b351",
   "metadata": {
    "execution": {
     "iopub.execute_input": "2022-11-19T05:29:28.569414Z",
     "iopub.status.busy": "2022-11-19T05:29:28.568799Z",
     "iopub.status.idle": "2022-11-19T05:29:28.690345Z",
     "shell.execute_reply": "2022-11-19T05:29:28.689459Z"
    },
    "papermill": {
     "duration": 0.142322,
     "end_time": "2022-11-19T05:29:28.692637",
     "exception": false,
     "start_time": "2022-11-19T05:29:28.550315",
     "status": "completed"
    },
    "tags": []
   },
   "outputs": [],
   "source": [
    "from sklearn.preprocessing import LabelEncoder\n",
    "labelencoder=LabelEncoder()"
   ]
  },
  {
   "cell_type": "code",
   "execution_count": 44,
   "id": "797c1dcf",
   "metadata": {
    "execution": {
     "iopub.execute_input": "2022-11-19T05:29:28.728038Z",
     "iopub.status.busy": "2022-11-19T05:29:28.727735Z",
     "iopub.status.idle": "2022-11-19T05:29:28.746633Z",
     "shell.execute_reply": "2022-11-19T05:29:28.745090Z"
    },
    "papermill": {
     "duration": 0.038954,
     "end_time": "2022-11-19T05:29:28.748863",
     "exception": false,
     "start_time": "2022-11-19T05:29:28.709909",
     "status": "completed"
    },
    "tags": []
   },
   "outputs": [],
   "source": [
    "final_df['Airline']=labelencoder.fit_transform(final_df['Airline'])\n",
    "final_df['Source']=labelencoder.fit_transform(final_df['Source'])\n",
    "final_df['Destination']=labelencoder.fit_transform(final_df['Destination'])\n",
    "final_df['Additional_Info']=labelencoder.fit_transform(final_df['Additional_Info'])"
   ]
  },
  {
   "cell_type": "code",
   "execution_count": 45,
   "id": "20928115",
   "metadata": {
    "execution": {
     "iopub.execute_input": "2022-11-19T05:29:28.786343Z",
     "iopub.status.busy": "2022-11-19T05:29:28.786056Z",
     "iopub.status.idle": "2022-11-19T05:29:28.791914Z",
     "shell.execute_reply": "2022-11-19T05:29:28.791077Z"
    },
    "papermill": {
     "duration": 0.027145,
     "end_time": "2022-11-19T05:29:28.793505",
     "exception": false,
     "start_time": "2022-11-19T05:29:28.766360",
     "status": "completed"
    },
    "tags": []
   },
   "outputs": [
    {
     "data": {
      "text/plain": [
       "(13351, 14)"
      ]
     },
     "execution_count": 45,
     "metadata": {},
     "output_type": "execute_result"
    }
   ],
   "source": [
    "final_df.shape"
   ]
  },
  {
   "cell_type": "code",
   "execution_count": 46,
   "id": "38c98258",
   "metadata": {
    "execution": {
     "iopub.execute_input": "2022-11-19T05:29:28.832319Z",
     "iopub.status.busy": "2022-11-19T05:29:28.830720Z",
     "iopub.status.idle": "2022-11-19T05:29:28.845007Z",
     "shell.execute_reply": "2022-11-19T05:29:28.844181Z"
    },
    "papermill": {
     "duration": 0.035928,
     "end_time": "2022-11-19T05:29:28.846613",
     "exception": false,
     "start_time": "2022-11-19T05:29:28.810685",
     "status": "completed"
    },
    "tags": []
   },
   "outputs": [
    {
     "data": {
      "text/html": [
       "<div>\n",
       "<style scoped>\n",
       "    .dataframe tbody tr th:only-of-type {\n",
       "        vertical-align: middle;\n",
       "    }\n",
       "\n",
       "    .dataframe tbody tr th {\n",
       "        vertical-align: top;\n",
       "    }\n",
       "\n",
       "    .dataframe thead th {\n",
       "        text-align: right;\n",
       "    }\n",
       "</style>\n",
       "<table border=\"1\" class=\"dataframe\">\n",
       "  <thead>\n",
       "    <tr style=\"text-align: right;\">\n",
       "      <th></th>\n",
       "      <th>Airline</th>\n",
       "      <th>Source</th>\n",
       "      <th>Destination</th>\n",
       "      <th>Total_Stops</th>\n",
       "      <th>Additional_Info</th>\n",
       "      <th>Price</th>\n",
       "      <th>Date</th>\n",
       "      <th>Month</th>\n",
       "      <th>Year</th>\n",
       "      <th>Arrival_hour</th>\n",
       "      <th>Arrival_min</th>\n",
       "      <th>Dept_hour</th>\n",
       "      <th>Dept_min</th>\n",
       "      <th>duration_hour</th>\n",
       "    </tr>\n",
       "  </thead>\n",
       "  <tbody>\n",
       "    <tr>\n",
       "      <th>0</th>\n",
       "      <td>3</td>\n",
       "      <td>0</td>\n",
       "      <td>5</td>\n",
       "      <td>0.0</td>\n",
       "      <td>8</td>\n",
       "      <td>3897.0</td>\n",
       "      <td>24</td>\n",
       "      <td>3</td>\n",
       "      <td>2019</td>\n",
       "      <td>1</td>\n",
       "      <td>1</td>\n",
       "      <td>22</td>\n",
       "      <td>20</td>\n",
       "      <td>2</td>\n",
       "    </tr>\n",
       "    <tr>\n",
       "      <th>1</th>\n",
       "      <td>1</td>\n",
       "      <td>3</td>\n",
       "      <td>0</td>\n",
       "      <td>2.0</td>\n",
       "      <td>8</td>\n",
       "      <td>7662.0</td>\n",
       "      <td>1</td>\n",
       "      <td>5</td>\n",
       "      <td>2019</td>\n",
       "      <td>13</td>\n",
       "      <td>13</td>\n",
       "      <td>5</td>\n",
       "      <td>50</td>\n",
       "      <td>7</td>\n",
       "    </tr>\n",
       "    <tr>\n",
       "      <th>2</th>\n",
       "      <td>4</td>\n",
       "      <td>2</td>\n",
       "      <td>1</td>\n",
       "      <td>2.0</td>\n",
       "      <td>8</td>\n",
       "      <td>13882.0</td>\n",
       "      <td>9</td>\n",
       "      <td>6</td>\n",
       "      <td>2019</td>\n",
       "      <td>4</td>\n",
       "      <td>4</td>\n",
       "      <td>9</td>\n",
       "      <td>25</td>\n",
       "      <td>19</td>\n",
       "    </tr>\n",
       "    <tr>\n",
       "      <th>3</th>\n",
       "      <td>3</td>\n",
       "      <td>3</td>\n",
       "      <td>0</td>\n",
       "      <td>1.0</td>\n",
       "      <td>8</td>\n",
       "      <td>6218.0</td>\n",
       "      <td>12</td>\n",
       "      <td>5</td>\n",
       "      <td>2019</td>\n",
       "      <td>23</td>\n",
       "      <td>23</td>\n",
       "      <td>18</td>\n",
       "      <td>5</td>\n",
       "      <td>5</td>\n",
       "    </tr>\n",
       "    <tr>\n",
       "      <th>4</th>\n",
       "      <td>3</td>\n",
       "      <td>0</td>\n",
       "      <td>5</td>\n",
       "      <td>1.0</td>\n",
       "      <td>8</td>\n",
       "      <td>13302.0</td>\n",
       "      <td>1</td>\n",
       "      <td>3</td>\n",
       "      <td>2019</td>\n",
       "      <td>21</td>\n",
       "      <td>21</td>\n",
       "      <td>16</td>\n",
       "      <td>50</td>\n",
       "      <td>4</td>\n",
       "    </tr>\n",
       "  </tbody>\n",
       "</table>\n",
       "</div>"
      ],
      "text/plain": [
       "   Airline  Source  Destination  Total_Stops  Additional_Info    Price  Date  \\\n",
       "0        3       0            5          0.0                8   3897.0    24   \n",
       "1        1       3            0          2.0                8   7662.0     1   \n",
       "2        4       2            1          2.0                8  13882.0     9   \n",
       "3        3       3            0          1.0                8   6218.0    12   \n",
       "4        3       0            5          1.0                8  13302.0     1   \n",
       "\n",
       "   Month  Year  Arrival_hour  Arrival_min  Dept_hour  Dept_min  duration_hour  \n",
       "0      3  2019             1            1         22        20              2  \n",
       "1      5  2019            13           13          5        50              7  \n",
       "2      6  2019             4            4          9        25             19  \n",
       "3      5  2019            23           23         18         5              5  \n",
       "4      3  2019            21           21         16        50              4  "
      ]
     },
     "execution_count": 46,
     "metadata": {},
     "output_type": "execute_result"
    }
   ],
   "source": [
    "final_df.head()"
   ]
  },
  {
   "cell_type": "code",
   "execution_count": 47,
   "id": "ca9242ea",
   "metadata": {
    "execution": {
     "iopub.execute_input": "2022-11-19T05:29:28.885542Z",
     "iopub.status.busy": "2022-11-19T05:29:28.884323Z",
     "iopub.status.idle": "2022-11-19T05:29:28.897600Z",
     "shell.execute_reply": "2022-11-19T05:29:28.896198Z"
    },
    "papermill": {
     "duration": 0.035328,
     "end_time": "2022-11-19T05:29:28.900338",
     "exception": false,
     "start_time": "2022-11-19T05:29:28.865010",
     "status": "completed"
    },
    "tags": []
   },
   "outputs": [
    {
     "name": "stdout",
     "output_type": "stream",
     "text": [
      "<class 'pandas.core.frame.DataFrame'>\n",
      "Int64Index: 13351 entries, 0 to 2670\n",
      "Data columns (total 14 columns):\n",
      " #   Column           Non-Null Count  Dtype  \n",
      "---  ------           --------------  -----  \n",
      " 0   Airline          13351 non-null  int64  \n",
      " 1   Source           13351 non-null  int64  \n",
      " 2   Destination      13351 non-null  int64  \n",
      " 3   Total_Stops      13350 non-null  float64\n",
      " 4   Additional_Info  13351 non-null  int64  \n",
      " 5   Price            10681 non-null  float64\n",
      " 6   Date             13351 non-null  int64  \n",
      " 7   Month            13351 non-null  int64  \n",
      " 8   Year             13351 non-null  int64  \n",
      " 9   Arrival_hour     13351 non-null  int64  \n",
      " 10  Arrival_min      13351 non-null  int64  \n",
      " 11  Dept_hour        13351 non-null  int64  \n",
      " 12  Dept_min         13351 non-null  int64  \n",
      " 13  duration_hour    13351 non-null  int64  \n",
      "dtypes: float64(2), int64(12)\n",
      "memory usage: 1.5 MB\n"
     ]
    }
   ],
   "source": [
    "final_df.info()"
   ]
  },
  {
   "cell_type": "code",
   "execution_count": 48,
   "id": "23e7b81d",
   "metadata": {
    "execution": {
     "iopub.execute_input": "2022-11-19T05:29:28.938603Z",
     "iopub.status.busy": "2022-11-19T05:29:28.937672Z",
     "iopub.status.idle": "2022-11-19T05:29:28.946719Z",
     "shell.execute_reply": "2022-11-19T05:29:28.945718Z"
    },
    "papermill": {
     "duration": 0.030149,
     "end_time": "2022-11-19T05:29:28.948496",
     "exception": false,
     "start_time": "2022-11-19T05:29:28.918347",
     "status": "completed"
    },
    "tags": []
   },
   "outputs": [
    {
     "data": {
      "text/plain": [
       "Airline               0\n",
       "Source                0\n",
       "Destination           0\n",
       "Total_Stops           1\n",
       "Additional_Info       0\n",
       "Price              2670\n",
       "Date                  0\n",
       "Month                 0\n",
       "Year                  0\n",
       "Arrival_hour          0\n",
       "Arrival_min           0\n",
       "Dept_hour             0\n",
       "Dept_min              0\n",
       "duration_hour         0\n",
       "dtype: int64"
      ]
     },
     "execution_count": 48,
     "metadata": {},
     "output_type": "execute_result"
    }
   ],
   "source": [
    "final_df.isnull().sum()"
   ]
  },
  {
   "cell_type": "code",
   "execution_count": 49,
   "id": "c42fb080",
   "metadata": {
    "execution": {
     "iopub.execute_input": "2022-11-19T05:29:28.986537Z",
     "iopub.status.busy": "2022-11-19T05:29:28.986247Z",
     "iopub.status.idle": "2022-11-19T05:29:28.996015Z",
     "shell.execute_reply": "2022-11-19T05:29:28.994840Z"
    },
    "papermill": {
     "duration": 0.03136,
     "end_time": "2022-11-19T05:29:28.998091",
     "exception": false,
     "start_time": "2022-11-19T05:29:28.966731",
     "status": "completed"
    },
    "tags": []
   },
   "outputs": [],
   "source": [
    "final_df.dropna(axis=0,inplace=True)"
   ]
  },
  {
   "cell_type": "code",
   "execution_count": 50,
   "id": "bc48cced",
   "metadata": {
    "execution": {
     "iopub.execute_input": "2022-11-19T05:29:29.034864Z",
     "iopub.status.busy": "2022-11-19T05:29:29.034546Z",
     "iopub.status.idle": "2022-11-19T05:29:29.042876Z",
     "shell.execute_reply": "2022-11-19T05:29:29.041616Z"
    },
    "papermill": {
     "duration": 0.028888,
     "end_time": "2022-11-19T05:29:29.044728",
     "exception": false,
     "start_time": "2022-11-19T05:29:29.015840",
     "status": "completed"
    },
    "tags": []
   },
   "outputs": [
    {
     "data": {
      "text/plain": [
       "Airline            0\n",
       "Source             0\n",
       "Destination        0\n",
       "Total_Stops        0\n",
       "Additional_Info    0\n",
       "Price              0\n",
       "Date               0\n",
       "Month              0\n",
       "Year               0\n",
       "Arrival_hour       0\n",
       "Arrival_min        0\n",
       "Dept_hour          0\n",
       "Dept_min           0\n",
       "duration_hour      0\n",
       "dtype: int64"
      ]
     },
     "execution_count": 50,
     "metadata": {},
     "output_type": "execute_result"
    }
   ],
   "source": [
    "final_df.isnull().sum()"
   ]
  },
  {
   "cell_type": "code",
   "execution_count": 51,
   "id": "74c66cc6",
   "metadata": {
    "execution": {
     "iopub.execute_input": "2022-11-19T05:29:29.082426Z",
     "iopub.status.busy": "2022-11-19T05:29:29.082135Z",
     "iopub.status.idle": "2022-11-19T05:29:29.087270Z",
     "shell.execute_reply": "2022-11-19T05:29:29.086294Z"
    },
    "papermill": {
     "duration": 0.026193,
     "end_time": "2022-11-19T05:29:29.089174",
     "exception": false,
     "start_time": "2022-11-19T05:29:29.062981",
     "status": "completed"
    },
    "tags": []
   },
   "outputs": [],
   "source": [
    "def plot(data,col):\n",
    "    fig,(ax1,ax2)=plt.subplots(2,1)\n",
    "    sns.distplot(data[col],ax=ax1)\n",
    "    sns.boxplot(data[col],ax=ax2)"
   ]
  },
  {
   "cell_type": "code",
   "execution_count": 52,
   "id": "8d039102",
   "metadata": {
    "execution": {
     "iopub.execute_input": "2022-11-19T05:29:29.128420Z",
     "iopub.status.busy": "2022-11-19T05:29:29.128132Z",
     "iopub.status.idle": "2022-11-19T05:29:29.513677Z",
     "shell.execute_reply": "2022-11-19T05:29:29.512136Z"
    },
    "papermill": {
     "duration": 0.407423,
     "end_time": "2022-11-19T05:29:29.516064",
     "exception": false,
     "start_time": "2022-11-19T05:29:29.108641",
     "status": "completed"
    },
    "tags": []
   },
   "outputs": [
    {
     "name": "stderr",
     "output_type": "stream",
     "text": [
      "/opt/conda/lib/python3.7/site-packages/seaborn/distributions.py:2619: FutureWarning: `distplot` is a deprecated function and will be removed in a future version. Please adapt your code to use either `displot` (a figure-level function with similar flexibility) or `histplot` (an axes-level function for histograms).\n",
      "  warnings.warn(msg, FutureWarning)\n",
      "/opt/conda/lib/python3.7/site-packages/seaborn/_decorators.py:43: FutureWarning: Pass the following variable as a keyword arg: x. From version 0.12, the only valid positional argument will be `data`, and passing other arguments without an explicit keyword will result in an error or misinterpretation.\n",
      "  FutureWarning\n"
     ]
    },
    {
     "data": {
      "image/png": "[encoded data removed]",
      "text/plain": [
       "<Figure size 432x288 with 2 Axes>"
      ]
     },
     "metadata": {
      "needs_background": "light"
     },
     "output_type": "display_data"
    }
   ],
   "source": [
    "plot(final_df,'Price')"
   ]
  },
  {
   "cell_type": "markdown",
   "id": "7ba7a021",
   "metadata": {
    "papermill": {
     "duration": 0.018074,
     "end_time": "2022-11-19T05:29:29.553171",
     "exception": false,
     "start_time": "2022-11-19T05:29:29.535097",
     "status": "completed"
    },
    "tags": []
   },
   "source": [
    "# Handling outliers:\n",
    "As there is some outliers in price feature,so we replace it with median."
   ]
  },
  {
   "cell_type": "code",
   "execution_count": 53,
   "id": "3c88c375",
   "metadata": {
    "execution": {
     "iopub.execute_input": "2022-11-19T05:29:29.588249Z",
     "iopub.status.busy": "2022-11-19T05:29:29.587944Z",
     "iopub.status.idle": "2022-11-19T05:29:29.593881Z",
     "shell.execute_reply": "2022-11-19T05:29:29.593039Z"
    },
    "papermill": {
     "duration": 0.0255,
     "end_time": "2022-11-19T05:29:29.595555",
     "exception": false,
     "start_time": "2022-11-19T05:29:29.570055",
     "status": "completed"
    },
    "tags": []
   },
   "outputs": [],
   "source": [
    "final_df['Price']=np.where(final_df['Price']>=40000,final_df['Price'].median(),final_df['Price'])"
   ]
  },
  {
   "cell_type": "code",
   "execution_count": 54,
   "id": "bb67b50b",
   "metadata": {
    "execution": {
     "iopub.execute_input": "2022-11-19T05:29:29.631036Z",
     "iopub.status.busy": "2022-11-19T05:29:29.630505Z",
     "iopub.status.idle": "2022-11-19T05:29:29.978909Z",
     "shell.execute_reply": "2022-11-19T05:29:29.977537Z"
    },
    "papermill": {
     "duration": 0.367993,
     "end_time": "2022-11-19T05:29:29.980642",
     "exception": false,
     "start_time": "2022-11-19T05:29:29.612649",
     "status": "completed"
    },
    "tags": []
   },
   "outputs": [
    {
     "name": "stderr",
     "output_type": "stream",
     "text": [
      "/opt/conda/lib/python3.7/site-packages/seaborn/distributions.py:2619: FutureWarning: `distplot` is a deprecated function and will be removed in a future version. Please adapt your code to use either `displot` (a figure-level function with similar flexibility) or `histplot` (an axes-level function for histograms).\n",
      "  warnings.warn(msg, FutureWarning)\n",
      "/opt/conda/lib/python3.7/site-packages/seaborn/_decorators.py:43: FutureWarning: Pass the following variable as a keyword arg: x. From version 0.12, the only valid positional argument will be `data`, and passing other arguments without an explicit keyword will result in an error or misinterpretation.\n",
      "  FutureWarning\n"
     ]
    },
    {
     "data": {
      "image/png": "[encoded data removed]",
      "text/plain": [
       "<Figure size 432x288 with 2 Axes>"
      ]
     },
     "metadata": {
      "needs_background": "light"
     },
     "output_type": "display_data"
    }
   ],
   "source": [
    "plot(final_df,'Price')"
   ]
  },
  {
   "cell_type": "code",
   "execution_count": 55,
   "id": "af1e842b",
   "metadata": {
    "execution": {
     "iopub.execute_input": "2022-11-19T05:29:30.019080Z",
     "iopub.status.busy": "2022-11-19T05:29:30.018739Z",
     "iopub.status.idle": "2022-11-19T05:29:30.040258Z",
     "shell.execute_reply": "2022-11-19T05:29:30.038963Z"
    },
    "papermill": {
     "duration": 0.043374,
     "end_time": "2022-11-19T05:29:30.042608",
     "exception": false,
     "start_time": "2022-11-19T05:29:29.999234",
     "status": "completed"
    },
    "tags": []
   },
   "outputs": [
    {
     "data": {
      "text/html": [
       "<div>\n",
       "<style scoped>\n",
       "    .dataframe tbody tr th:only-of-type {\n",
       "        vertical-align: middle;\n",
       "    }\n",
       "\n",
       "    .dataframe tbody tr th {\n",
       "        vertical-align: top;\n",
       "    }\n",
       "\n",
       "    .dataframe thead th {\n",
       "        text-align: right;\n",
       "    }\n",
       "</style>\n",
       "<table border=\"1\" class=\"dataframe\">\n",
       "  <thead>\n",
       "    <tr style=\"text-align: right;\">\n",
       "      <th></th>\n",
       "      <th>Airline</th>\n",
       "      <th>Source</th>\n",
       "      <th>Destination</th>\n",
       "      <th>Total_Stops</th>\n",
       "      <th>Additional_Info</th>\n",
       "      <th>Price</th>\n",
       "      <th>Date</th>\n",
       "      <th>Month</th>\n",
       "      <th>Year</th>\n",
       "      <th>Arrival_hour</th>\n",
       "      <th>Arrival_min</th>\n",
       "      <th>Dept_hour</th>\n",
       "      <th>Dept_min</th>\n",
       "      <th>duration_hour</th>\n",
       "    </tr>\n",
       "  </thead>\n",
       "  <tbody>\n",
       "    <tr>\n",
       "      <th>0</th>\n",
       "      <td>3</td>\n",
       "      <td>0</td>\n",
       "      <td>5</td>\n",
       "      <td>0.0</td>\n",
       "      <td>8</td>\n",
       "      <td>3897.0</td>\n",
       "      <td>24</td>\n",
       "      <td>3</td>\n",
       "      <td>2019</td>\n",
       "      <td>1</td>\n",
       "      <td>1</td>\n",
       "      <td>22</td>\n",
       "      <td>20</td>\n",
       "      <td>2</td>\n",
       "    </tr>\n",
       "    <tr>\n",
       "      <th>1</th>\n",
       "      <td>1</td>\n",
       "      <td>3</td>\n",
       "      <td>0</td>\n",
       "      <td>2.0</td>\n",
       "      <td>8</td>\n",
       "      <td>7662.0</td>\n",
       "      <td>1</td>\n",
       "      <td>5</td>\n",
       "      <td>2019</td>\n",
       "      <td>13</td>\n",
       "      <td>13</td>\n",
       "      <td>5</td>\n",
       "      <td>50</td>\n",
       "      <td>7</td>\n",
       "    </tr>\n",
       "    <tr>\n",
       "      <th>2</th>\n",
       "      <td>4</td>\n",
       "      <td>2</td>\n",
       "      <td>1</td>\n",
       "      <td>2.0</td>\n",
       "      <td>8</td>\n",
       "      <td>13882.0</td>\n",
       "      <td>9</td>\n",
       "      <td>6</td>\n",
       "      <td>2019</td>\n",
       "      <td>4</td>\n",
       "      <td>4</td>\n",
       "      <td>9</td>\n",
       "      <td>25</td>\n",
       "      <td>19</td>\n",
       "    </tr>\n",
       "    <tr>\n",
       "      <th>3</th>\n",
       "      <td>3</td>\n",
       "      <td>3</td>\n",
       "      <td>0</td>\n",
       "      <td>1.0</td>\n",
       "      <td>8</td>\n",
       "      <td>6218.0</td>\n",
       "      <td>12</td>\n",
       "      <td>5</td>\n",
       "      <td>2019</td>\n",
       "      <td>23</td>\n",
       "      <td>23</td>\n",
       "      <td>18</td>\n",
       "      <td>5</td>\n",
       "      <td>5</td>\n",
       "    </tr>\n",
       "    <tr>\n",
       "      <th>4</th>\n",
       "      <td>3</td>\n",
       "      <td>0</td>\n",
       "      <td>5</td>\n",
       "      <td>1.0</td>\n",
       "      <td>8</td>\n",
       "      <td>13302.0</td>\n",
       "      <td>1</td>\n",
       "      <td>3</td>\n",
       "      <td>2019</td>\n",
       "      <td>21</td>\n",
       "      <td>21</td>\n",
       "      <td>16</td>\n",
       "      <td>50</td>\n",
       "      <td>4</td>\n",
       "    </tr>\n",
       "    <tr>\n",
       "      <th>5</th>\n",
       "      <td>8</td>\n",
       "      <td>3</td>\n",
       "      <td>0</td>\n",
       "      <td>0.0</td>\n",
       "      <td>8</td>\n",
       "      <td>3873.0</td>\n",
       "      <td>24</td>\n",
       "      <td>6</td>\n",
       "      <td>2019</td>\n",
       "      <td>11</td>\n",
       "      <td>11</td>\n",
       "      <td>9</td>\n",
       "      <td>0</td>\n",
       "      <td>2</td>\n",
       "    </tr>\n",
       "    <tr>\n",
       "      <th>6</th>\n",
       "      <td>4</td>\n",
       "      <td>0</td>\n",
       "      <td>5</td>\n",
       "      <td>1.0</td>\n",
       "      <td>5</td>\n",
       "      <td>11087.0</td>\n",
       "      <td>12</td>\n",
       "      <td>3</td>\n",
       "      <td>2019</td>\n",
       "      <td>10</td>\n",
       "      <td>10</td>\n",
       "      <td>18</td>\n",
       "      <td>55</td>\n",
       "      <td>15</td>\n",
       "    </tr>\n",
       "    <tr>\n",
       "      <th>7</th>\n",
       "      <td>4</td>\n",
       "      <td>0</td>\n",
       "      <td>5</td>\n",
       "      <td>1.0</td>\n",
       "      <td>8</td>\n",
       "      <td>22270.0</td>\n",
       "      <td>1</td>\n",
       "      <td>3</td>\n",
       "      <td>2019</td>\n",
       "      <td>5</td>\n",
       "      <td>5</td>\n",
       "      <td>8</td>\n",
       "      <td>0</td>\n",
       "      <td>21</td>\n",
       "    </tr>\n",
       "    <tr>\n",
       "      <th>8</th>\n",
       "      <td>4</td>\n",
       "      <td>0</td>\n",
       "      <td>5</td>\n",
       "      <td>1.0</td>\n",
       "      <td>5</td>\n",
       "      <td>11087.0</td>\n",
       "      <td>12</td>\n",
       "      <td>3</td>\n",
       "      <td>2019</td>\n",
       "      <td>10</td>\n",
       "      <td>10</td>\n",
       "      <td>8</td>\n",
       "      <td>55</td>\n",
       "      <td>25</td>\n",
       "    </tr>\n",
       "    <tr>\n",
       "      <th>9</th>\n",
       "      <td>6</td>\n",
       "      <td>2</td>\n",
       "      <td>1</td>\n",
       "      <td>1.0</td>\n",
       "      <td>8</td>\n",
       "      <td>8625.0</td>\n",
       "      <td>27</td>\n",
       "      <td>5</td>\n",
       "      <td>2019</td>\n",
       "      <td>19</td>\n",
       "      <td>19</td>\n",
       "      <td>11</td>\n",
       "      <td>25</td>\n",
       "      <td>7</td>\n",
       "    </tr>\n",
       "    <tr>\n",
       "      <th>10</th>\n",
       "      <td>1</td>\n",
       "      <td>2</td>\n",
       "      <td>1</td>\n",
       "      <td>1.0</td>\n",
       "      <td>8</td>\n",
       "      <td>8907.0</td>\n",
       "      <td>1</td>\n",
       "      <td>6</td>\n",
       "      <td>2019</td>\n",
       "      <td>23</td>\n",
       "      <td>23</td>\n",
       "      <td>9</td>\n",
       "      <td>45</td>\n",
       "      <td>13</td>\n",
       "    </tr>\n",
       "    <tr>\n",
       "      <th>11</th>\n",
       "      <td>3</td>\n",
       "      <td>3</td>\n",
       "      <td>0</td>\n",
       "      <td>0.0</td>\n",
       "      <td>8</td>\n",
       "      <td>4174.0</td>\n",
       "      <td>18</td>\n",
       "      <td>4</td>\n",
       "      <td>2019</td>\n",
       "      <td>22</td>\n",
       "      <td>22</td>\n",
       "      <td>20</td>\n",
       "      <td>20</td>\n",
       "      <td>2</td>\n",
       "    </tr>\n",
       "    <tr>\n",
       "      <th>12</th>\n",
       "      <td>1</td>\n",
       "      <td>1</td>\n",
       "      <td>4</td>\n",
       "      <td>0.0</td>\n",
       "      <td>8</td>\n",
       "      <td>4667.0</td>\n",
       "      <td>24</td>\n",
       "      <td>6</td>\n",
       "      <td>2019</td>\n",
       "      <td>13</td>\n",
       "      <td>13</td>\n",
       "      <td>11</td>\n",
       "      <td>40</td>\n",
       "      <td>2</td>\n",
       "    </tr>\n",
       "    <tr>\n",
       "      <th>13</th>\n",
       "      <td>4</td>\n",
       "      <td>3</td>\n",
       "      <td>0</td>\n",
       "      <td>1.0</td>\n",
       "      <td>5</td>\n",
       "      <td>9663.0</td>\n",
       "      <td>9</td>\n",
       "      <td>5</td>\n",
       "      <td>2019</td>\n",
       "      <td>9</td>\n",
       "      <td>9</td>\n",
       "      <td>21</td>\n",
       "      <td>10</td>\n",
       "      <td>12</td>\n",
       "    </tr>\n",
       "    <tr>\n",
       "      <th>14</th>\n",
       "      <td>3</td>\n",
       "      <td>3</td>\n",
       "      <td>0</td>\n",
       "      <td>0.0</td>\n",
       "      <td>8</td>\n",
       "      <td>4804.0</td>\n",
       "      <td>24</td>\n",
       "      <td>4</td>\n",
       "      <td>2019</td>\n",
       "      <td>19</td>\n",
       "      <td>19</td>\n",
       "      <td>17</td>\n",
       "      <td>15</td>\n",
       "      <td>2</td>\n",
       "    </tr>\n",
       "    <tr>\n",
       "      <th>15</th>\n",
       "      <td>1</td>\n",
       "      <td>2</td>\n",
       "      <td>1</td>\n",
       "      <td>2.0</td>\n",
       "      <td>8</td>\n",
       "      <td>14011.0</td>\n",
       "      <td>3</td>\n",
       "      <td>3</td>\n",
       "      <td>2019</td>\n",
       "      <td>19</td>\n",
       "      <td>19</td>\n",
       "      <td>16</td>\n",
       "      <td>40</td>\n",
       "      <td>26</td>\n",
       "    </tr>\n",
       "    <tr>\n",
       "      <th>16</th>\n",
       "      <td>8</td>\n",
       "      <td>2</td>\n",
       "      <td>1</td>\n",
       "      <td>1.0</td>\n",
       "      <td>8</td>\n",
       "      <td>5830.0</td>\n",
       "      <td>15</td>\n",
       "      <td>4</td>\n",
       "      <td>2019</td>\n",
       "      <td>13</td>\n",
       "      <td>13</td>\n",
       "      <td>8</td>\n",
       "      <td>45</td>\n",
       "      <td>4</td>\n",
       "    </tr>\n",
       "    <tr>\n",
       "      <th>17</th>\n",
       "      <td>4</td>\n",
       "      <td>2</td>\n",
       "      <td>1</td>\n",
       "      <td>1.0</td>\n",
       "      <td>5</td>\n",
       "      <td>10262.0</td>\n",
       "      <td>12</td>\n",
       "      <td>6</td>\n",
       "      <td>2019</td>\n",
       "      <td>12</td>\n",
       "      <td>12</td>\n",
       "      <td>14</td>\n",
       "      <td>0</td>\n",
       "      <td>22</td>\n",
       "    </tr>\n",
       "    <tr>\n",
       "      <th>18</th>\n",
       "      <td>1</td>\n",
       "      <td>2</td>\n",
       "      <td>1</td>\n",
       "      <td>2.0</td>\n",
       "      <td>8</td>\n",
       "      <td>13381.0</td>\n",
       "      <td>12</td>\n",
       "      <td>6</td>\n",
       "      <td>2019</td>\n",
       "      <td>19</td>\n",
       "      <td>19</td>\n",
       "      <td>20</td>\n",
       "      <td>15</td>\n",
       "      <td>23</td>\n",
       "    </tr>\n",
       "    <tr>\n",
       "      <th>19</th>\n",
       "      <td>4</td>\n",
       "      <td>2</td>\n",
       "      <td>1</td>\n",
       "      <td>1.0</td>\n",
       "      <td>5</td>\n",
       "      <td>12898.0</td>\n",
       "      <td>27</td>\n",
       "      <td>5</td>\n",
       "      <td>2019</td>\n",
       "      <td>12</td>\n",
       "      <td>12</td>\n",
       "      <td>16</td>\n",
       "      <td>0</td>\n",
       "      <td>20</td>\n",
       "    </tr>\n",
       "  </tbody>\n",
       "</table>\n",
       "</div>"
      ],
      "text/plain": [
       "    Airline  Source  Destination  Total_Stops  Additional_Info    Price  Date  \\\n",
       "0         3       0            5          0.0                8   3897.0    24   \n",
       "1         1       3            0          2.0                8   7662.0     1   \n",
       "2         4       2            1          2.0                8  13882.0     9   \n",
       "3         3       3            0          1.0                8   6218.0    12   \n",
       "4         3       0            5          1.0                8  13302.0     1   \n",
       "5         8       3            0          0.0                8   3873.0    24   \n",
       "6         4       0            5          1.0                5  11087.0    12   \n",
       "7         4       0            5          1.0                8  22270.0     1   \n",
       "8         4       0            5          1.0                5  11087.0    12   \n",
       "9         6       2            1          1.0                8   8625.0    27   \n",
       "10        1       2            1          1.0                8   8907.0     1   \n",
       "11        3       3            0          0.0                8   4174.0    18   \n",
       "12        1       1            4          0.0                8   4667.0    24   \n",
       "13        4       3            0          1.0                5   9663.0     9   \n",
       "14        3       3            0          0.0                8   4804.0    24   \n",
       "15        1       2            1          2.0                8  14011.0     3   \n",
       "16        8       2            1          1.0                8   5830.0    15   \n",
       "17        4       2            1          1.0                5  10262.0    12   \n",
       "18        1       2            1          2.0                8  13381.0    12   \n",
       "19        4       2            1          1.0                5  12898.0    27   \n",
       "\n",
       "    Month  Year  Arrival_hour  Arrival_min  Dept_hour  Dept_min  duration_hour  \n",
       "0       3  2019             1            1         22        20              2  \n",
       "1       5  2019            13           13          5        50              7  \n",
       "2       6  2019             4            4          9        25             19  \n",
       "3       5  2019            23           23         18         5              5  \n",
       "4       3  2019            21           21         16        50              4  \n",
       "5       6  2019            11           11          9         0              2  \n",
       "6       3  2019            10           10         18        55             15  \n",
       "7       3  2019             5            5          8         0             21  \n",
       "8       3  2019            10           10          8        55             25  \n",
       "9       5  2019            19           19         11        25              7  \n",
       "10      6  2019            23           23          9        45             13  \n",
       "11      4  2019            22           22         20        20              2  \n",
       "12      6  2019            13           13         11        40              2  \n",
       "13      5  2019             9            9         21        10             12  \n",
       "14      4  2019            19           19         17        15              2  \n",
       "15      3  2019            19           19         16        40             26  \n",
       "16      4  2019            13           13          8        45              4  \n",
       "17      6  2019            12           12         14         0             22  \n",
       "18      6  2019            19           19         20        15             23  \n",
       "19      5  2019            12           12         16         0             20  "
      ]
     },
     "execution_count": 55,
     "metadata": {},
     "output_type": "execute_result"
    }
   ],
   "source": [
    "final_df.head(20)"
   ]
  },
  {
   "cell_type": "code",
   "execution_count": null,
   "id": "69aeecbd",
   "metadata": {
    "papermill": {
     "duration": 0.019674,
     "end_time": "2022-11-19T05:29:30.081651",
     "exception": false,
     "start_time": "2022-11-19T05:29:30.061977",
     "status": "completed"
    },
    "tags": []
   },
   "outputs": [],
   "source": []
  },
  {
   "cell_type": "markdown",
   "id": "e3ac5f88",
   "metadata": {
    "papermill": {
     "duration": 0.01876,
     "end_time": "2022-11-19T05:29:30.120014",
     "exception": false,
     "start_time": "2022-11-19T05:29:30.101254",
     "status": "completed"
    },
    "tags": []
   },
   "source": [
    "# Seprate the dataset in X and Y columns"
   ]
  },
  {
   "cell_type": "code",
   "execution_count": 56,
   "id": "625e2c3a",
   "metadata": {
    "execution": {
     "iopub.execute_input": "2022-11-19T05:29:30.160755Z",
     "iopub.status.busy": "2022-11-19T05:29:30.159898Z",
     "iopub.status.idle": "2022-11-19T05:29:30.165716Z",
     "shell.execute_reply": "2022-11-19T05:29:30.165071Z"
    },
    "papermill": {
     "duration": 0.027835,
     "end_time": "2022-11-19T05:29:30.167369",
     "exception": false,
     "start_time": "2022-11-19T05:29:30.139534",
     "status": "completed"
    },
    "tags": []
   },
   "outputs": [],
   "source": [
    "X=final_df.drop(columns=['Price'],axis=1)\n",
    "y=final_df['Price']"
   ]
  },
  {
   "cell_type": "markdown",
   "id": "f399164c",
   "metadata": {
    "papermill": {
     "duration": 0.018263,
     "end_time": "2022-11-19T05:29:30.204594",
     "exception": false,
     "start_time": "2022-11-19T05:29:30.186331",
     "status": "completed"
    },
    "tags": []
   },
   "source": [
    "# Models"
   ]
  },
  {
   "cell_type": "code",
   "execution_count": 57,
   "id": "17d9177f",
   "metadata": {
    "execution": {
     "iopub.execute_input": "2022-11-19T05:29:30.244310Z",
     "iopub.status.busy": "2022-11-19T05:29:30.242560Z",
     "iopub.status.idle": "2022-11-19T05:29:30.298552Z",
     "shell.execute_reply": "2022-11-19T05:29:30.297898Z"
    },
    "papermill": {
     "duration": 0.077304,
     "end_time": "2022-11-19T05:29:30.300474",
     "exception": false,
     "start_time": "2022-11-19T05:29:30.223170",
     "status": "completed"
    },
    "tags": []
   },
   "outputs": [],
   "source": [
    "from sklearn.model_selection import train_test_split\n",
    "X_train,X_test,y_train,y_test=train_test_split(X,y,test_size=0.20,random_state=4)"
   ]
  },
  {
   "cell_type": "code",
   "execution_count": 58,
   "id": "a8678e4e",
   "metadata": {
    "execution": {
     "iopub.execute_input": "2022-11-19T05:29:30.340507Z",
     "iopub.status.busy": "2022-11-19T05:29:30.340059Z",
     "iopub.status.idle": "2022-11-19T05:29:30.529524Z",
     "shell.execute_reply": "2022-11-19T05:29:30.528579Z"
    },
    "papermill": {
     "duration": 0.212085,
     "end_time": "2022-11-19T05:29:30.531545",
     "exception": false,
     "start_time": "2022-11-19T05:29:30.319460",
     "status": "completed"
    },
    "tags": []
   },
   "outputs": [],
   "source": [
    "from sklearn.metrics import r2_score,mean_absolute_error,mean_squared_error\n",
    "\n",
    "from sklearn.linear_model import LinearRegression\n",
    "from sklearn.neighbors import KNeighborsRegressor\n",
    "from sklearn.tree import DecisionTreeRegressor\n",
    "from sklearn.ensemble import GradientBoostingRegressor,RandomForestRegressor\n"
   ]
  },
  {
   "cell_type": "code",
   "execution_count": 59,
   "id": "3a323395",
   "metadata": {
    "execution": {
     "iopub.execute_input": "2022-11-19T05:29:30.571670Z",
     "iopub.status.busy": "2022-11-19T05:29:30.571352Z",
     "iopub.status.idle": "2022-11-19T05:29:30.578196Z",
     "shell.execute_reply": "2022-11-19T05:29:30.577051Z"
    },
    "papermill": {
     "duration": 0.028811,
     "end_time": "2022-11-19T05:29:30.579875",
     "exception": false,
     "start_time": "2022-11-19T05:29:30.551064",
     "status": "completed"
    },
    "tags": []
   },
   "outputs": [],
   "source": [
    "def predict(ml_model):\n",
    "    print('Model is: {}'.format(ml_model))\n",
    "    model= ml_model.fit(X_train,y_train)\n",
    "    print(\"Training score: {}\".format(model.score(X_train,y_train)))\n",
    "    predictions = model.predict(X_test)\n",
    "    print(\"Predictions are: {}\".format(predictions))\n",
    "    print('\\n')\n",
    "    r2score=r2_score(y_test,predictions) \n",
    "    print(\"r2 score is: {}\".format(r2score))\n",
    "          \n",
    "    print('MAE:{}'.format(mean_absolute_error(y_test,predictions)))\n",
    "    print('MSE:{}'.format(mean_squared_error(y_test,predictions)))\n",
    "    print('RMSE:{}'.format(np.sqrt(mean_squared_error(y_test,predictions))))\n",
    "     \n",
    "    sns.distplot(y_test-predictions)  "
   ]
  },
  {
   "cell_type": "code",
   "execution_count": 60,
   "id": "45fb1817",
   "metadata": {
    "execution": {
     "iopub.execute_input": "2022-11-19T05:29:30.620006Z",
     "iopub.status.busy": "2022-11-19T05:29:30.619691Z",
     "iopub.status.idle": "2022-11-19T05:29:30.960839Z",
     "shell.execute_reply": "2022-11-19T05:29:30.959550Z"
    },
    "papermill": {
     "duration": 0.363126,
     "end_time": "2022-11-19T05:29:30.963080",
     "exception": false,
     "start_time": "2022-11-19T05:29:30.599954",
     "status": "completed"
    },
    "tags": []
   },
   "outputs": [
    {
     "name": "stdout",
     "output_type": "stream",
     "text": [
      "Model is: LinearRegression()\n",
      "Training score: 0.4612109177157353\n",
      "Predictions are: [11571.30805711  4753.22927284  5311.19123037 ... 14339.90296799\n",
      " 13109.17390869  5757.7984094 ]\n",
      "\n",
      "\n",
      "r2 score is: 0.48314887627211556\n",
      "MAE:2403.5650968816794\n",
      "MSE:9937755.778064389\n",
      "RMSE:3152.420622008489\n"
     ]
    },
    {
     "name": "stderr",
     "output_type": "stream",
     "text": [
      "/opt/conda/lib/python3.7/site-packages/seaborn/distributions.py:2619: FutureWarning: `distplot` is a deprecated function and will be removed in a future version. Please adapt your code to use either `displot` (a figure-level function with similar flexibility) or `histplot` (an axes-level function for histograms).\n",
      "  warnings.warn(msg, FutureWarning)\n"
     ]
    },
    {
     "data": {
      "image/png": "[encoded data removed]",
      "text/plain": [
       "<Figure size 432x288 with 1 Axes>"
      ]
     },
     "metadata": {
      "needs_background": "light"
     },
     "output_type": "display_data"
    }
   ],
   "source": [
    "predict(LinearRegression())"
   ]
  },
  {
   "cell_type": "code",
   "execution_count": 61,
   "id": "675c882f",
   "metadata": {
    "execution": {
     "iopub.execute_input": "2022-11-19T05:29:31.005359Z",
     "iopub.status.busy": "2022-11-19T05:29:31.004484Z",
     "iopub.status.idle": "2022-11-19T05:29:33.351304Z",
     "shell.execute_reply": "2022-11-19T05:29:33.350358Z"
    },
    "papermill": {
     "duration": 2.369702,
     "end_time": "2022-11-19T05:29:33.352999",
     "exception": false,
     "start_time": "2022-11-19T05:29:30.983297",
     "status": "completed"
    },
    "tags": []
   },
   "outputs": [
    {
     "name": "stdout",
     "output_type": "stream",
     "text": [
      "Model is: RandomForestRegressor()\n",
      "Training score: 0.9804912789756622\n",
      "Predictions are: [14687.33   4482.54   4514.28  ... 13259.818 17376.62   4670.1  ]\n",
      "\n",
      "\n",
      "r2 score is: 0.8978578913891075\n",
      "MAE:682.1329727201119\n",
      "MSE:1963937.5507404222\n",
      "RMSE:1401.4055625479807\n"
     ]
    },
    {
     "name": "stderr",
     "output_type": "stream",
     "text": [
      "/opt/conda/lib/python3.7/site-packages/seaborn/distributions.py:2619: FutureWarning: `distplot` is a deprecated function and will be removed in a future version. Please adapt your code to use either `displot` (a figure-level function with similar flexibility) or `histplot` (an axes-level function for histograms).\n",
      "  warnings.warn(msg, FutureWarning)\n"
     ]
    },
    {
     "data": {
      "image/png": "[encoded data removed]",
      "text/plain": [
       "<Figure size 432x288 with 1 Axes>"
      ]
     },
     "metadata": {
      "needs_background": "light"
     },
     "output_type": "display_data"
    }
   ],
   "source": [
    "predict(RandomForestRegressor())"
   ]
  },
  {
   "cell_type": "code",
   "execution_count": 62,
   "id": "01e095fe",
   "metadata": {
    "execution": {
     "iopub.execute_input": "2022-11-19T05:29:33.395633Z",
     "iopub.status.busy": "2022-11-19T05:29:33.395325Z",
     "iopub.status.idle": "2022-11-19T05:29:33.757057Z",
     "shell.execute_reply": "2022-11-19T05:29:33.756336Z"
    },
    "papermill": {
     "duration": 0.386693,
     "end_time": "2022-11-19T05:29:33.758480",
     "exception": false,
     "start_time": "2022-11-19T05:29:33.371787",
     "status": "completed"
    },
    "tags": []
   },
   "outputs": [
    {
     "name": "stdout",
     "output_type": "stream",
     "text": [
      "Model is: KNeighborsRegressor()\n",
      "Training score: 0.7887595362851733\n",
      "Predictions are: [15979.   5014.   4956.2 ... 12061.2 14963.6  5124.6]\n",
      "\n",
      "\n",
      "r2 score is: 0.7014167102478435\n",
      "MAE:1621.2294007490636\n",
      "MSE:5741010.663895131\n",
      "RMSE:2396.040622338263\n"
     ]
    },
    {
     "name": "stderr",
     "output_type": "stream",
     "text": [
      "/opt/conda/lib/python3.7/site-packages/seaborn/distributions.py:2619: FutureWarning: `distplot` is a deprecated function and will be removed in a future version. Please adapt your code to use either `displot` (a figure-level function with similar flexibility) or `histplot` (an axes-level function for histograms).\n",
      "  warnings.warn(msg, FutureWarning)\n"
     ]
    },
    {
     "data": {
      "image/png": "[encoded data removed]",
      "text/plain": [
       "<Figure size 432x288 with 1 Axes>"
      ]
     },
     "metadata": {
      "needs_background": "light"
     },
     "output_type": "display_data"
    }
   ],
   "source": [
    "predict(KNeighborsRegressor())"
   ]
  },
  {
   "cell_type": "code",
   "execution_count": 63,
   "id": "e97716a1",
   "metadata": {
    "execution": {
     "iopub.execute_input": "2022-11-19T05:29:33.802670Z",
     "iopub.status.busy": "2022-11-19T05:29:33.802362Z",
     "iopub.status.idle": "2022-11-19T05:29:34.210251Z",
     "shell.execute_reply": "2022-11-19T05:29:34.209624Z"
    },
    "papermill": {
     "duration": 0.432472,
     "end_time": "2022-11-19T05:29:34.211947",
     "exception": false,
     "start_time": "2022-11-19T05:29:33.779475",
     "status": "completed"
    },
    "tags": []
   },
   "outputs": [
    {
     "name": "stdout",
     "output_type": "stream",
     "text": [
      "Model is: DecisionTreeRegressor()\n",
      "Training score: 0.9935235991193568\n",
      "Predictions are: [15136.  4174.  4384. ... 13591. 17471.  4668.]\n",
      "\n",
      "\n",
      "r2 score is: 0.8233043435383807\n",
      "MAE:799.6154806491885\n",
      "MSE:3397416.0069444445\n",
      "RMSE:1843.2080747827806\n"
     ]
    },
    {
     "name": "stderr",
     "output_type": "stream",
     "text": [
      "/opt/conda/lib/python3.7/site-packages/seaborn/distributions.py:2619: FutureWarning: `distplot` is a deprecated function and will be removed in a future version. Please adapt your code to use either `displot` (a figure-level function with similar flexibility) or `histplot` (an axes-level function for histograms).\n",
      "  warnings.warn(msg, FutureWarning)\n"
     ]
    },
    {
     "data": {
      "image/png": "[encoded data removed]",
      "text/plain": [
       "<Figure size 432x288 with 1 Axes>"
      ]
     },
     "metadata": {
      "needs_background": "light"
     },
     "output_type": "display_data"
    }
   ],
   "source": [
    "predict(DecisionTreeRegressor())"
   ]
  },
  {
   "cell_type": "code",
   "execution_count": 64,
   "id": "eb9d9f68",
   "metadata": {
    "execution": {
     "iopub.execute_input": "2022-11-19T05:29:34.256021Z",
     "iopub.status.busy": "2022-11-19T05:29:34.255537Z",
     "iopub.status.idle": "2022-11-19T05:29:43.823615Z",
     "shell.execute_reply": "2022-11-19T05:29:43.822546Z"
    },
    "papermill": {
     "duration": 9.592551,
     "end_time": "2022-11-19T05:29:43.825862",
     "exception": false,
     "start_time": "2022-11-19T05:29:34.233311",
     "status": "completed"
    },
    "tags": []
   },
   "outputs": [
    {
     "name": "stdout",
     "output_type": "stream",
     "text": [
      "Model is: SVR()\n",
      "Training score: -0.02280706703621238\n",
      "Predictions are: [8371.68202736 8371.30022883 8371.34683033 ... 8371.90526722 8371.83627457\n",
      " 8371.3928147 ]\n",
      "\n",
      "\n",
      "r2 score is: -0.026431149750572036\n",
      "MAE:3583.3639290298543\n",
      "MSE:19735706.513795666\n",
      "RMSE:4442.4887747517905\n"
     ]
    },
    {
     "name": "stderr",
     "output_type": "stream",
     "text": [
      "/opt/conda/lib/python3.7/site-packages/seaborn/distributions.py:2619: FutureWarning: `distplot` is a deprecated function and will be removed in a future version. Please adapt your code to use either `displot` (a figure-level function with similar flexibility) or `histplot` (an axes-level function for histograms).\n",
      "  warnings.warn(msg, FutureWarning)\n"
     ]
    },
    {
     "data": {
      "image/png": "[encoded data removed]",
      "text/plain": [
       "<Figure size 432x288 with 1 Axes>"
      ]
     },
     "metadata": {
      "needs_background": "light"
     },
     "output_type": "display_data"
    }
   ],
   "source": [
    "from sklearn.svm import SVR\n",
    "predict(SVR())"
   ]
  },
  {
   "cell_type": "code",
   "execution_count": 65,
   "id": "529c3f8f",
   "metadata": {
    "execution": {
     "iopub.execute_input": "2022-11-19T05:29:43.872340Z",
     "iopub.status.busy": "2022-11-19T05:29:43.871747Z",
     "iopub.status.idle": "2022-11-19T05:29:44.796227Z",
     "shell.execute_reply": "2022-11-19T05:29:44.795285Z"
    },
    "papermill": {
     "duration": 0.949559,
     "end_time": "2022-11-19T05:29:44.797892",
     "exception": false,
     "start_time": "2022-11-19T05:29:43.848333",
     "status": "completed"
    },
    "tags": []
   },
   "outputs": [
    {
     "name": "stdout",
     "output_type": "stream",
     "text": [
      "Model is: GradientBoostingRegressor()\n",
      "Training score: 0.8310814819043929\n",
      "Predictions are: [13137.69780325  4335.55246633  4478.81954708 ... 11452.17570207\n",
      " 17214.16469026  4913.77978677]\n",
      "\n",
      "\n",
      "r2 score is: 0.8402031573982657\n",
      "MAE:1234.6270469449612\n",
      "MSE:3072494.0374085447\n",
      "RMSE:1752.8531134720172\n"
     ]
    },
    {
     "name": "stderr",
     "output_type": "stream",
     "text": [
      "/opt/conda/lib/python3.7/site-packages/seaborn/distributions.py:2619: FutureWarning: `distplot` is a deprecated function and will be removed in a future version. Please adapt your code to use either `displot` (a figure-level function with similar flexibility) or `histplot` (an axes-level function for histograms).\n",
      "  warnings.warn(msg, FutureWarning)\n"
     ]
    },
    {
     "data": {
      "image/png": "[encoded data removed]",
      "text/plain": [
       "<Figure size 432x288 with 1 Axes>"
      ]
     },
     "metadata": {
      "needs_background": "light"
     },
     "output_type": "display_data"
    }
   ],
   "source": [
    "predict(GradientBoostingRegressor())"
   ]
  },
  {
   "cell_type": "markdown",
   "id": "e383b44c",
   "metadata": {
    "papermill": {
     "duration": 0.021652,
     "end_time": "2022-11-19T05:29:44.841996",
     "exception": false,
     "start_time": "2022-11-19T05:29:44.820344",
     "status": "completed"
    },
    "tags": []
   },
   "source": [
    "# Hypertunning the model"
   ]
  },
  {
   "cell_type": "code",
   "execution_count": 66,
   "id": "f18fa950",
   "metadata": {
    "execution": {
     "iopub.execute_input": "2022-11-19T05:29:44.888019Z",
     "iopub.status.busy": "2022-11-19T05:29:44.887335Z",
     "iopub.status.idle": "2022-11-19T05:29:44.892982Z",
     "shell.execute_reply": "2022-11-19T05:29:44.891086Z"
    },
    "papermill": {
     "duration": 0.030743,
     "end_time": "2022-11-19T05:29:44.895071",
     "exception": false,
     "start_time": "2022-11-19T05:29:44.864328",
     "status": "completed"
    },
    "tags": []
   },
   "outputs": [],
   "source": [
    "from sklearn.model_selection import RandomizedSearchCV"
   ]
  },
  {
   "cell_type": "code",
   "execution_count": 67,
   "id": "9c60e63e",
   "metadata": {
    "execution": {
     "iopub.execute_input": "2022-11-19T05:29:44.940194Z",
     "iopub.status.busy": "2022-11-19T05:29:44.939380Z",
     "iopub.status.idle": "2022-11-19T05:29:44.943976Z",
     "shell.execute_reply": "2022-11-19T05:29:44.943146Z"
    },
    "papermill": {
     "duration": 0.028719,
     "end_time": "2022-11-19T05:29:44.945558",
     "exception": false,
     "start_time": "2022-11-19T05:29:44.916839",
     "status": "completed"
    },
    "tags": []
   },
   "outputs": [],
   "source": [
    "random_grid = {\n",
    "    'n_estimators' : [100, 120, 150, 180, 200,220,280],\n",
    "    'max_features':['auto','sqrt'],\n",
    "    'max_depth':[5,10,15,20,25],\n",
    "    }"
   ]
  },
  {
   "cell_type": "code",
   "execution_count": 68,
   "id": "7e2ea153",
   "metadata": {
    "execution": {
     "iopub.execute_input": "2022-11-19T05:29:44.991864Z",
     "iopub.status.busy": "2022-11-19T05:29:44.991500Z",
     "iopub.status.idle": "2022-11-19T05:30:02.377388Z",
     "shell.execute_reply": "2022-11-19T05:30:02.376223Z"
    },
    "papermill": {
     "duration": 17.41294,
     "end_time": "2022-11-19T05:30:02.379834",
     "exception": false,
     "start_time": "2022-11-19T05:29:44.966894",
     "status": "completed"
    },
    "tags": []
   },
   "outputs": [
    {
     "name": "stdout",
     "output_type": "stream",
     "text": [
      "Fitting 3 folds for each of 10 candidates, totalling 30 fits\n"
     ]
    },
    {
     "data": {
      "text/plain": [
       "{'n_estimators': 200, 'max_features': 'auto', 'max_depth': 15}"
      ]
     },
     "execution_count": 68,
     "metadata": {},
     "output_type": "execute_result"
    }
   ],
   "source": [
    "rf=RandomForestRegressor()\n",
    "rf_random=RandomizedSearchCV(estimator=rf,param_distributions=random_grid,cv=3,verbose=2,n_jobs=-1,)\n",
    "\n",
    "rf_random.fit(X_train,y_train)\n",
    "\n",
    "# best parameter\n",
    "rf_random.best_params_"
   ]
  },
  {
   "cell_type": "code",
   "execution_count": 69,
   "id": "ee4dad07",
   "metadata": {
    "execution": {
     "iopub.execute_input": "2022-11-19T05:30:02.426168Z",
     "iopub.status.busy": "2022-11-19T05:30:02.425862Z",
     "iopub.status.idle": "2022-11-19T05:30:02.432733Z",
     "shell.execute_reply": "2022-11-19T05:30:02.431153Z"
    },
    "papermill": {
     "duration": 0.033101,
     "end_time": "2022-11-19T05:30:02.435353",
     "exception": false,
     "start_time": "2022-11-19T05:30:02.402252",
     "status": "completed"
    },
    "tags": []
   },
   "outputs": [
    {
     "data": {
      "text/plain": [
       "{'n_estimators': 200, 'max_features': 'auto', 'max_depth': 15}"
      ]
     },
     "execution_count": 69,
     "metadata": {},
     "output_type": "execute_result"
    }
   ],
   "source": [
    "# best parameter\n",
    "rf_random.best_params_"
   ]
  },
  {
   "cell_type": "code",
   "execution_count": 70,
   "id": "725e6ec5",
   "metadata": {
    "execution": {
     "iopub.execute_input": "2022-11-19T05:30:02.480208Z",
     "iopub.status.busy": "2022-11-19T05:30:02.479814Z",
     "iopub.status.idle": "2022-11-19T05:30:03.330599Z",
     "shell.execute_reply": "2022-11-19T05:30:03.329310Z"
    },
    "papermill": {
     "duration": 0.875377,
     "end_time": "2022-11-19T05:30:03.332499",
     "exception": false,
     "start_time": "2022-11-19T05:30:02.457122",
     "status": "completed"
    },
    "tags": []
   },
   "outputs": [
    {
     "data": {
      "text/plain": [
       "<seaborn.axisgrid.FacetGrid at 0x7f7386abe190>"
      ]
     },
     "execution_count": 70,
     "metadata": {},
     "output_type": "execute_result"
    },
    {
     "data": {
      "image/png": "[encoded data removed]",
      "text/plain": [
       "<Figure size 360x360 with 1 Axes>"
      ]
     },
     "metadata": {
      "needs_background": "light"
     },
     "output_type": "display_data"
    }
   ],
   "source": [
    "#predicting the values\n",
    "prediction = rf_random.predict(X_test)\n",
    "\n",
    "#distribution plot between actual value and predicted value\n",
    "sns.displot(y_test-prediction)"
   ]
  },
  {
   "cell_type": "code",
   "execution_count": 71,
   "id": "d8f7d945",
   "metadata": {
    "execution": {
     "iopub.execute_input": "2022-11-19T05:30:03.376847Z",
     "iopub.status.busy": "2022-11-19T05:30:03.376508Z",
     "iopub.status.idle": "2022-11-19T05:30:03.382926Z",
     "shell.execute_reply": "2022-11-19T05:30:03.381946Z"
    },
    "papermill": {
     "duration": 0.030498,
     "end_time": "2022-11-19T05:30:03.384431",
     "exception": false,
     "start_time": "2022-11-19T05:30:03.353933",
     "status": "completed"
    },
    "tags": []
   },
   "outputs": [
    {
     "data": {
      "text/plain": [
       "0.9020662714353359"
      ]
     },
     "execution_count": 71,
     "metadata": {},
     "output_type": "execute_result"
    }
   ],
   "source": [
    "r2_score(y_test,prediction)"
   ]
  },
  {
   "cell_type": "markdown",
   "id": "cc1fbb3f",
   "metadata": {
    "papermill": {
     "duration": 0.020245,
     "end_time": "2022-11-19T05:30:03.425593",
     "exception": false,
     "start_time": "2022-11-19T05:30:03.405348",
     "status": "completed"
    },
    "tags": []
   },
   "source": [
    "# After hypertuning,the accuracy increases .\n",
    "\n",
    "# IF YOU LIKE THE WORK,PLEASE UPVOTE IT."
   ]
  },
  {
   "cell_type": "code",
   "execution_count": null,
   "id": "ef78952f",
   "metadata": {
    "papermill": {
     "duration": 0.020253,
     "end_time": "2022-11-19T05:30:03.466283",
     "exception": false,
     "start_time": "2022-11-19T05:30:03.446030",
     "status": "completed"
    },
    "tags": []
   },
   "outputs": [],
   "source": []
  }
 ],
 "metadata": {
  "kernelspec": {
   "display_name": "Python 3 (ipykernel)",
   "language": "python",
   "name": "python3"
  },
  "language_info": {
   "codemirror_mode": {
    "name": "ipython",
    "version": 3
   },
   "file_extension": ".py",
   "mimetype": "text/x-python",
   "name": "python",
   "nbconvert_exporter": "python",
   "pygments_lexer": "ipython3",
   "version": "3.9.12"
  },
  "papermill": {
   "default_parameters": {},
   "duration": 49.966502,
   "end_time": "2022-11-19T05:30:06.107235",
   "environment_variables": {},
   "exception": null,
   "input_path": "__notebook__.ipynb",
   "output_path": "__notebook__.ipynb",
   "parameters": {},
   "start_time": "2022-11-19T05:29:16.140733",
   "version": "2.3.4"
  }
 },
 "nbformat": 4,
 "nbformat_minor": 5
}
